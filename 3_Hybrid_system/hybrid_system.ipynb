{
 "cells": [
  {
   "cell_type": "markdown",
   "id": "d097f55b",
   "metadata": {},
   "source": [
    "### Описание задания:\n",
    "\n",
    "- Использовать датасет ml-latest.\n",
    "- Выбрать подходящий подход к построению гибридным системам для предоставления рекомендаций.\n",
    "- Написать свою гибридную систему"
   ]
  },
  {
   "cell_type": "code",
   "execution_count": 1,
   "id": "a5f3001c",
   "metadata": {},
   "outputs": [],
   "source": [
    "import warnings\n",
    "warnings.filterwarnings('ignore')"
   ]
  },
  {
   "cell_type": "code",
   "execution_count": 2,
   "id": "65b0e561",
   "metadata": {},
   "outputs": [],
   "source": [
    "import wget\n",
    "import zipfile\n",
    "\n",
    "import pandas as pd\n",
    "import numpy as np\n",
    "\n",
    "from lightfm import LightFM\n",
    "import lightfm.data as light\n",
    "from lightfm.evaluation import precision_at_k\n",
    "from lightfm.evaluation import auc_score\n",
    "\n",
    "from sklearn.feature_extraction.text import CountVectorizer, TfidfTransformer, TfidfVectorizer\n",
    "from sklearn.metrics import mean_squared_error\n",
    "from sklearn.neighbors import NearestNeighbors\n",
    "from sklearn.preprocessing import LabelEncoder\n",
    "\n",
    "from scipy.sparse import coo_matrix\n",
    "\n",
    "from surprise import accuracy\n",
    "from surprise import SVD\n",
    "from surprise import Dataset\n",
    "from surprise import Reader\n",
    "from surprise.model_selection import train_test_split\n",
    "from surprise.model_selection import GridSearchCV"
   ]
  },
  {
   "cell_type": "code",
   "execution_count": 3,
   "id": "c75902a4",
   "metadata": {},
   "outputs": [],
   "source": [
    "warnings.filterwarnings('ignore')"
   ]
  },
  {
   "cell_type": "code",
   "execution_count": 4,
   "id": "093cb84a",
   "metadata": {},
   "outputs": [],
   "source": [
    "dataset = 'ml-latest' \n",
    "#Размер датасета 264M\n",
    "\n",
    "#dataset = 'ml-latest-small'\n",
    "#Размер датасета 1M - используется для тестового прогона\n",
    "\n",
    "url = f'https://files.grouplens.org/datasets/movielens/{dataset}.zip'"
   ]
  },
  {
   "cell_type": "code",
   "execution_count": 5,
   "id": "74918739",
   "metadata": {},
   "outputs": [
    {
     "name": "stdout",
     "output_type": "stream",
     "text": [
      "100% [......................................................................] 277113433 / 277113433"
     ]
    },
    {
     "data": {
      "text/plain": [
       "'ml-latest.zip'"
      ]
     },
     "execution_count": 5,
     "metadata": {},
     "output_type": "execute_result"
    }
   ],
   "source": [
    "wget.download(url, f'{dataset}.zip')"
   ]
  },
  {
   "cell_type": "code",
   "execution_count": 6,
   "id": "719050f1",
   "metadata": {},
   "outputs": [],
   "source": [
    "with zipfile.ZipFile(f'{dataset}.zip', 'r') as zip_data:\n",
    "    zip_data.extractall()"
   ]
  },
  {
   "cell_type": "code",
   "execution_count": 7,
   "id": "9236bce8",
   "metadata": {},
   "outputs": [],
   "source": [
    "movies = pd.read_csv(f'./{dataset}/movies.csv')\n",
    "movies.name = 'movies'\n",
    "ratings = pd.read_csv(f'./{dataset}/ratings.csv')\n",
    "ratings.name = 'ratings'\n",
    "tags = pd.read_csv(f'./{dataset}/tags.csv')\n",
    "tags.name = 'tags'"
   ]
  },
  {
   "cell_type": "code",
   "execution_count": 8,
   "id": "4addee13",
   "metadata": {},
   "outputs": [],
   "source": [
    "def get_analises(dataset) -> None:\n",
    "    print(dataset.name)\n",
    "    dataset.info()\n",
    "    print(f'Дублирующих записей: {dataset.duplicated().sum()}')\n",
    "    print('------------')"
   ]
  },
  {
   "cell_type": "markdown",
   "id": "6b5c1063",
   "metadata": {},
   "source": [
    "### Первичный анализ данных"
   ]
  },
  {
   "cell_type": "code",
   "execution_count": 9,
   "id": "a8178f08",
   "metadata": {},
   "outputs": [
    {
     "name": "stdout",
     "output_type": "stream",
     "text": [
      "movies\n",
      "<class 'pandas.core.frame.DataFrame'>\n",
      "RangeIndex: 58098 entries, 0 to 58097\n",
      "Data columns (total 3 columns):\n",
      " #   Column   Non-Null Count  Dtype \n",
      "---  ------   --------------  ----- \n",
      " 0   movieId  58098 non-null  int64 \n",
      " 1   title    58098 non-null  object\n",
      " 2   genres   58098 non-null  object\n",
      "dtypes: int64(1), object(2)\n",
      "memory usage: 1.3+ MB\n",
      "Дублирующих записей: 0\n",
      "------------\n",
      "ratings\n",
      "<class 'pandas.core.frame.DataFrame'>\n",
      "RangeIndex: 27753444 entries, 0 to 27753443\n",
      "Data columns (total 4 columns):\n",
      " #   Column     Dtype  \n",
      "---  ------     -----  \n",
      " 0   userId     int64  \n",
      " 1   movieId    int64  \n",
      " 2   rating     float64\n",
      " 3   timestamp  int64  \n",
      "dtypes: float64(1), int64(3)\n",
      "memory usage: 847.0 MB\n",
      "Дублирующих записей: 0\n",
      "------------\n",
      "tags\n",
      "<class 'pandas.core.frame.DataFrame'>\n",
      "RangeIndex: 1108997 entries, 0 to 1108996\n",
      "Data columns (total 4 columns):\n",
      " #   Column     Non-Null Count    Dtype \n",
      "---  ------     --------------    ----- \n",
      " 0   userId     1108997 non-null  int64 \n",
      " 1   movieId    1108997 non-null  int64 \n",
      " 2   tag        1108981 non-null  object\n",
      " 3   timestamp  1108997 non-null  int64 \n",
      "dtypes: int64(3), object(1)\n",
      "memory usage: 33.8+ MB\n",
      "Дублирующих записей: 0\n",
      "------------\n"
     ]
    }
   ],
   "source": [
    "get_analises(movies)\n",
    "get_analises(ratings)\n",
    "get_analises(tags)"
   ]
  },
  {
   "cell_type": "markdown",
   "id": "6c30e673",
   "metadata": {},
   "source": [
    "### Подготовка данных"
   ]
  },
  {
   "cell_type": "code",
   "execution_count": 10,
   "id": "4c05e710",
   "metadata": {},
   "outputs": [
    {
     "data": {
      "text/html": [
       "<div>\n",
       "<style scoped>\n",
       "    .dataframe tbody tr th:only-of-type {\n",
       "        vertical-align: middle;\n",
       "    }\n",
       "\n",
       "    .dataframe tbody tr th {\n",
       "        vertical-align: top;\n",
       "    }\n",
       "\n",
       "    .dataframe thead th {\n",
       "        text-align: right;\n",
       "    }\n",
       "</style>\n",
       "<table border=\"1\" class=\"dataframe\">\n",
       "  <thead>\n",
       "    <tr style=\"text-align: right;\">\n",
       "      <th></th>\n",
       "      <th>movieId</th>\n",
       "      <th>title</th>\n",
       "      <th>genres</th>\n",
       "      <th>userId</th>\n",
       "      <th>rating</th>\n",
       "      <th>timestamp</th>\n",
       "    </tr>\n",
       "  </thead>\n",
       "  <tbody>\n",
       "    <tr>\n",
       "      <th>0</th>\n",
       "      <td>1</td>\n",
       "      <td>Toy Story (1995)</td>\n",
       "      <td>Adventure|Animation|Children|Comedy|Fantasy</td>\n",
       "      <td>4</td>\n",
       "      <td>4.0</td>\n",
       "      <td>1113765937</td>\n",
       "    </tr>\n",
       "    <tr>\n",
       "      <th>1</th>\n",
       "      <td>1</td>\n",
       "      <td>Toy Story (1995)</td>\n",
       "      <td>Adventure|Animation|Children|Comedy|Fantasy</td>\n",
       "      <td>10</td>\n",
       "      <td>5.0</td>\n",
       "      <td>948885850</td>\n",
       "    </tr>\n",
       "    <tr>\n",
       "      <th>2</th>\n",
       "      <td>1</td>\n",
       "      <td>Toy Story (1995)</td>\n",
       "      <td>Adventure|Animation|Children|Comedy|Fantasy</td>\n",
       "      <td>14</td>\n",
       "      <td>4.5</td>\n",
       "      <td>1442169375</td>\n",
       "    </tr>\n",
       "    <tr>\n",
       "      <th>3</th>\n",
       "      <td>1</td>\n",
       "      <td>Toy Story (1995)</td>\n",
       "      <td>Adventure|Animation|Children|Comedy|Fantasy</td>\n",
       "      <td>15</td>\n",
       "      <td>4.0</td>\n",
       "      <td>1370810063</td>\n",
       "    </tr>\n",
       "    <tr>\n",
       "      <th>4</th>\n",
       "      <td>1</td>\n",
       "      <td>Toy Story (1995)</td>\n",
       "      <td>Adventure|Animation|Children|Comedy|Fantasy</td>\n",
       "      <td>22</td>\n",
       "      <td>4.0</td>\n",
       "      <td>1237622631</td>\n",
       "    </tr>\n",
       "  </tbody>\n",
       "</table>\n",
       "</div>"
      ],
      "text/plain": [
       "   movieId             title                                       genres  \\\n",
       "0        1  Toy Story (1995)  Adventure|Animation|Children|Comedy|Fantasy   \n",
       "1        1  Toy Story (1995)  Adventure|Animation|Children|Comedy|Fantasy   \n",
       "2        1  Toy Story (1995)  Adventure|Animation|Children|Comedy|Fantasy   \n",
       "3        1  Toy Story (1995)  Adventure|Animation|Children|Comedy|Fantasy   \n",
       "4        1  Toy Story (1995)  Adventure|Animation|Children|Comedy|Fantasy   \n",
       "\n",
       "   userId  rating   timestamp  \n",
       "0       4     4.0  1113765937  \n",
       "1      10     5.0   948885850  \n",
       "2      14     4.5  1442169375  \n",
       "3      15     4.0  1370810063  \n",
       "4      22     4.0  1237622631  "
      ]
     },
     "execution_count": 10,
     "metadata": {},
     "output_type": "execute_result"
    }
   ],
   "source": [
    "movies_with_ratings = movies.merge(ratings, on='movieId').reset_index(drop=True)\n",
    "movies_with_ratings.dropna(inplace=True)\n",
    "movies_with_ratings.head()"
   ]
  },
  {
   "cell_type": "code",
   "execution_count": 11,
   "id": "97f2774f",
   "metadata": {},
   "outputs": [],
   "source": [
    "dataset = pd.DataFrame({\n",
    "    'uid': movies_with_ratings.userId,\n",
    "    'iid': movies_with_ratings.title,\n",
    "    'rating': movies_with_ratings.rating\n",
    "})"
   ]
  },
  {
   "cell_type": "code",
   "execution_count": 12,
   "id": "40535440",
   "metadata": {},
   "outputs": [],
   "source": [
    "reader = Reader(rating_scale=(ratings.rating.min(), ratings.rating.max()))\n",
    "data = Dataset.load_from_df(dataset, reader)"
   ]
  },
  {
   "cell_type": "code",
   "execution_count": 15,
   "id": "b9ab85bd",
   "metadata": {},
   "outputs": [],
   "source": [
    "trainset, testset = train_test_split(data, test_size=0.2, random_state=21)"
   ]
  },
  {
   "cell_type": "markdown",
   "id": "0ada5815",
   "metadata": {},
   "source": [
    "### Обучение RecSys из библиотеки surprise"
   ]
  },
  {
   "cell_type": "markdown",
   "id": "008b438d",
   "metadata": {},
   "source": [
    "В качестве модели выбрана SVD библиотеки surprise: пожертвуем немного качеством модели по сравнению с SVDpp, но кратно сократим время.\n",
    "В качестве параметров возьмём те, что подобраны в проекте [Сollaborative_filtering](https://github.com/msavilov/Recommender_Systems_ML/blob/main/2_Collaborative_filtering/collaborative_filtering.ipynb)"
   ]
  },
  {
   "cell_type": "code",
   "execution_count": 16,
   "id": "ba2c7973",
   "metadata": {},
   "outputs": [
    {
     "data": {
      "text/plain": [
       "<surprise.prediction_algorithms.matrix_factorization.SVD at 0x1f846135c00>"
      ]
     },
     "execution_count": 16,
     "metadata": {},
     "output_type": "execute_result"
    }
   ],
   "source": [
    "svd = SVD(n_factors=100, n_epochs=50, lr_all=0.01, reg_all=0.08, random_state=21)\n",
    "svd.fit(trainset)"
   ]
  },
  {
   "cell_type": "code",
   "execution_count": 17,
   "id": "8ed28df8",
   "metadata": {},
   "outputs": [
    {
     "name": "stdout",
     "output_type": "stream",
     "text": [
      "RMSE: 0.8138\n"
     ]
    }
   ],
   "source": [
    "predictions = svd.test(testset)\n",
    "accur_score = accuracy.rmse(predictions, verbose=True)"
   ]
  },
  {
   "cell_type": "code",
   "execution_count": 18,
   "id": "3c4f2e5a",
   "metadata": {},
   "outputs": [],
   "source": [
    "def get_recommend(user_id):\n",
    "    'Предоставление рекомендаций фильмов по userID'\n",
    "    user_movies = movies_with_ratings[movies_with_ratings.userId == user_id].title.unique()\n",
    "    scores = []\n",
    "    titles = []\n",
    "    for movie in movies_with_ratings.title.unique():\n",
    "        if movie in user_movies:\n",
    "            continue\n",
    "        \n",
    "        scores.append(svd.predict(uid=user_id, iid=movie).est)\n",
    "        titles.append(movie)\n",
    "    titles = np.array(titles)\n",
    "    return titles[np.argsort(-np.array(scores))[:10]]"
   ]
  },
  {
   "cell_type": "code",
   "execution_count": 19,
   "id": "dc22801c",
   "metadata": {},
   "outputs": [
    {
     "name": "stdout",
     "output_type": "stream",
     "text": [
      "Для пользователя с ID 30 рекомендуются следующие фильмы:\n",
      "--------------\n",
      "Loot (1970)\n",
      "Story of Science, The (2010)\n",
      "Dreams with Sharp Teeth (2008)\n",
      "Emo Philips Live (1987)\n",
      "Vergeef me\n",
      "Perceval (1978)\n",
      "Grin Without a Cat, A (Fond de l'air est rouge, Le) (1977)\n",
      "O Pátio das Cantigas (1942)\n",
      "Frozen North, The (2006)\n",
      "Godfather, The (1972)\n"
     ]
    }
   ],
   "source": [
    "userId = 30\n",
    "print(f'Для пользователя с ID {userId} рекомендуются следующие фильмы:')\n",
    "print('--------------')\n",
    "print(*get_recommend(userId), sep='\\n')"
   ]
  },
  {
   "cell_type": "markdown",
   "id": "a2cd3c44",
   "metadata": {},
   "source": [
    "### Обучение RecSys на основе content-based с применением TF-IDF"
   ]
  },
  {
   "cell_type": "markdown",
   "id": "8cea903b",
   "metadata": {},
   "source": [
    "В качестве модели content-based модель с применением TF-IDF к признаку genre. Рекомендации посчитаем с помощью метода NearestNeighbors."
   ]
  },
  {
   "cell_type": "code",
   "execution_count": 20,
   "id": "dc6e2c3b",
   "metadata": {},
   "outputs": [],
   "source": [
    "def get_X_y(data):\n",
    "    tfidf = TfidfVectorizer()\n",
    "    data['genres'] = data['genres'].apply(lambda val: val.replace('|', ' '))\n",
    "    X = pd.DataFrame(tfidf.fit_transform(data['genres']).toarray(),\n",
    "                       columns=tfidf.get_feature_names_out()).reset_index(drop=True)\n",
    "    return X, data['rating']"
   ]
  },
  {
   "cell_type": "code",
   "execution_count": 21,
   "id": "798a4526",
   "metadata": {},
   "outputs": [],
   "source": [
    "def change_string(s):\n",
    "    return ' '.join(s.replace(' ', '').replace('-', '').split('|'))"
   ]
  },
  {
   "cell_type": "code",
   "execution_count": 22,
   "id": "1ff9af48",
   "metadata": {},
   "outputs": [],
   "source": [
    "movie_genres = [change_string(g) for g in movies.genres.values]"
   ]
  },
  {
   "cell_type": "code",
   "execution_count": 23,
   "id": "3cfd3f61",
   "metadata": {},
   "outputs": [
    {
     "data": {
      "text/html": [
       "<style>#sk-container-id-1 {color: black;background-color: white;}#sk-container-id-1 pre{padding: 0;}#sk-container-id-1 div.sk-toggleable {background-color: white;}#sk-container-id-1 label.sk-toggleable__label {cursor: pointer;display: block;width: 100%;margin-bottom: 0;padding: 0.3em;box-sizing: border-box;text-align: center;}#sk-container-id-1 label.sk-toggleable__label-arrow:before {content: \"▸\";float: left;margin-right: 0.25em;color: #696969;}#sk-container-id-1 label.sk-toggleable__label-arrow:hover:before {color: black;}#sk-container-id-1 div.sk-estimator:hover label.sk-toggleable__label-arrow:before {color: black;}#sk-container-id-1 div.sk-toggleable__content {max-height: 0;max-width: 0;overflow: hidden;text-align: left;background-color: #f0f8ff;}#sk-container-id-1 div.sk-toggleable__content pre {margin: 0.2em;color: black;border-radius: 0.25em;background-color: #f0f8ff;}#sk-container-id-1 input.sk-toggleable__control:checked~div.sk-toggleable__content {max-height: 200px;max-width: 100%;overflow: auto;}#sk-container-id-1 input.sk-toggleable__control:checked~label.sk-toggleable__label-arrow:before {content: \"▾\";}#sk-container-id-1 div.sk-estimator input.sk-toggleable__control:checked~label.sk-toggleable__label {background-color: #d4ebff;}#sk-container-id-1 div.sk-label input.sk-toggleable__control:checked~label.sk-toggleable__label {background-color: #d4ebff;}#sk-container-id-1 input.sk-hidden--visually {border: 0;clip: rect(1px 1px 1px 1px);clip: rect(1px, 1px, 1px, 1px);height: 1px;margin: -1px;overflow: hidden;padding: 0;position: absolute;width: 1px;}#sk-container-id-1 div.sk-estimator {font-family: monospace;background-color: #f0f8ff;border: 1px dotted black;border-radius: 0.25em;box-sizing: border-box;margin-bottom: 0.5em;}#sk-container-id-1 div.sk-estimator:hover {background-color: #d4ebff;}#sk-container-id-1 div.sk-parallel-item::after {content: \"\";width: 100%;border-bottom: 1px solid gray;flex-grow: 1;}#sk-container-id-1 div.sk-label:hover label.sk-toggleable__label {background-color: #d4ebff;}#sk-container-id-1 div.sk-serial::before {content: \"\";position: absolute;border-left: 1px solid gray;box-sizing: border-box;top: 0;bottom: 0;left: 50%;z-index: 0;}#sk-container-id-1 div.sk-serial {display: flex;flex-direction: column;align-items: center;background-color: white;padding-right: 0.2em;padding-left: 0.2em;position: relative;}#sk-container-id-1 div.sk-item {position: relative;z-index: 1;}#sk-container-id-1 div.sk-parallel {display: flex;align-items: stretch;justify-content: center;background-color: white;position: relative;}#sk-container-id-1 div.sk-item::before, #sk-container-id-1 div.sk-parallel-item::before {content: \"\";position: absolute;border-left: 1px solid gray;box-sizing: border-box;top: 0;bottom: 0;left: 50%;z-index: -1;}#sk-container-id-1 div.sk-parallel-item {display: flex;flex-direction: column;z-index: 1;position: relative;background-color: white;}#sk-container-id-1 div.sk-parallel-item:first-child::after {align-self: flex-end;width: 50%;}#sk-container-id-1 div.sk-parallel-item:last-child::after {align-self: flex-start;width: 50%;}#sk-container-id-1 div.sk-parallel-item:only-child::after {width: 0;}#sk-container-id-1 div.sk-dashed-wrapped {border: 1px dashed gray;margin: 0 0.4em 0.5em 0.4em;box-sizing: border-box;padding-bottom: 0.4em;background-color: white;}#sk-container-id-1 div.sk-label label {font-family: monospace;font-weight: bold;display: inline-block;line-height: 1.2em;}#sk-container-id-1 div.sk-label-container {text-align: center;}#sk-container-id-1 div.sk-container {/* jupyter's `normalize.less` sets `[hidden] { display: none; }` but bootstrap.min.css set `[hidden] { display: none !important; }` so we also need the `!important` here to be able to override the default hidden behavior on the sphinx rendered scikit-learn.org. See: https://github.com/scikit-learn/scikit-learn/issues/21755 */display: inline-block !important;position: relative;}#sk-container-id-1 div.sk-text-repr-fallback {display: none;}</style><div id=\"sk-container-id-1\" class=\"sk-top-container\"><div class=\"sk-text-repr-fallback\"><pre>NearestNeighbors(metric=&#x27;euclidean&#x27;, n_jobs=-1, n_neighbors=20)</pre><b>In a Jupyter environment, please rerun this cell to show the HTML representation or trust the notebook. <br />On GitHub, the HTML representation is unable to render, please try loading this page with nbviewer.org.</b></div><div class=\"sk-container\" hidden><div class=\"sk-item\"><div class=\"sk-estimator sk-toggleable\"><input class=\"sk-toggleable__control sk-hidden--visually\" id=\"sk-estimator-id-1\" type=\"checkbox\" checked><label for=\"sk-estimator-id-1\" class=\"sk-toggleable__label sk-toggleable__label-arrow\">NearestNeighbors</label><div class=\"sk-toggleable__content\"><pre>NearestNeighbors(metric=&#x27;euclidean&#x27;, n_jobs=-1, n_neighbors=20)</pre></div></div></div></div></div>"
      ],
      "text/plain": [
       "NearestNeighbors(metric='euclidean', n_jobs=-1, n_neighbors=20)"
      ]
     },
     "execution_count": 23,
     "metadata": {},
     "output_type": "execute_result"
    }
   ],
   "source": [
    "count_vect = CountVectorizer()\n",
    "X_train_counts = count_vect.fit_transform(movie_genres)\n",
    "\n",
    "tfidf_transformer = TfidfTransformer()\n",
    "X_train_tfidf = tfidf_transformer.fit_transform(X_train_counts)\n",
    "\n",
    "neigh = NearestNeighbors(n_neighbors=20, n_jobs=-1, metric='euclidean') \n",
    "neigh.fit(X_train_tfidf)"
   ]
  },
  {
   "cell_type": "markdown",
   "id": "617851a2",
   "metadata": {},
   "source": [
    "Добавим дополнительный признак для фильмов: их средний рейтинг. После подбора похожих фильмов, отсортируем их по более рейтинговым"
   ]
  },
  {
   "cell_type": "code",
   "execution_count": 24,
   "id": "323a1b2b",
   "metadata": {
    "scrolled": true
   },
   "outputs": [],
   "source": [
    "mean_movie_rating = movies_with_ratings.groupby('movieId')['rating'].mean()\n",
    "movies_with_ratings['mean_movie_rating'] = movies_with_ratings['movieId'].apply(lambda x: mean_movie_rating[x])"
   ]
  },
  {
   "cell_type": "code",
   "execution_count": 25,
   "id": "af9b6fa3",
   "metadata": {},
   "outputs": [],
   "source": [
    "def get_rec_by_genres(genres):\n",
    "    predict = count_vect.transform([genres])\n",
    "    X_tfidf2 = tfidf_transformer.transform(predict)\n",
    "    res = neigh.kneighbors(X_tfidf2, return_distance=True)\n",
    "    return np.array(movies_with_ratings.iloc[res[1][0]].sort_values(by=['mean_movie_rating'], ascending=False)['title'].unique()[:10])"
   ]
  },
  {
   "cell_type": "code",
   "execution_count": 43,
   "id": "a6ac96cd",
   "metadata": {},
   "outputs": [
    {
     "name": "stdout",
     "output_type": "stream",
     "text": [
      "По жанрам \"Adventure Comedy Fantasy Crime\" рекомендуются следующие фильмы:\n",
      "--------------\n",
      "Like Water for Chocolate (Como agua para chocolate) (1992)\n",
      "Apollo 13 (1995)\n",
      "Dances with Wolves (1990)\n",
      "Bullets Over Broadway (1994)\n",
      "Beauty and the Beast (1991)\n",
      "Leaving Las Vegas (1995)\n",
      "Ed Wood (1994)\n",
      "Get Shorty (1995)\n",
      "Death and the Maiden (1994)\n",
      "Rob Roy (1995)\n"
     ]
    }
   ],
   "source": [
    "genres = 'Adventure Comedy Fantasy Crime'\n",
    "print(f'По жанрам \"{genres}\" рекомендуются следующие фильмы:')\n",
    "print('--------------')\n",
    "print(*get_rec_by_genres(genres), sep='\\n')"
   ]
  },
  {
   "cell_type": "markdown",
   "id": "1bae5cb7",
   "metadata": {},
   "source": [
    "### Гибридная RecSys"
   ]
  },
  {
   "cell_type": "markdown",
   "id": "b011c995",
   "metadata": {},
   "source": [
    "Объединяет в себе рекомендательную систему на основе content-based и SVD библиотеки surprise"
   ]
  },
  {
   "cell_type": "code",
   "execution_count": 27,
   "id": "907d042a",
   "metadata": {},
   "outputs": [],
   "source": [
    "movies_with_ratings.sort_values('timestamp', inplace=True)"
   ]
  },
  {
   "cell_type": "code",
   "execution_count": 28,
   "id": "90692e66",
   "metadata": {},
   "outputs": [],
   "source": [
    "title_genres = {}\n",
    "\n",
    "for index, row in movies.iterrows():\n",
    "    title_genres[row.title] = row.genres"
   ]
  },
  {
   "cell_type": "code",
   "execution_count": 29,
   "id": "f3e52e95",
   "metadata": {},
   "outputs": [],
   "source": [
    "def recommend_for_user_by_genre(user_id):\n",
    "    user_movies = movies_with_ratings[movies_with_ratings.userId == user_id].title.unique()\n",
    "    \n",
    "    last_user_movie = user_movies[-1]\n",
    "    \n",
    "    movie_genres = title_genres[last_user_movie]\n",
    "    \n",
    "    movie_genres = change_string(movie_genres)\n",
    "\n",
    "    predict = count_vect.transform([movie_genres])\n",
    "    \n",
    "    X_tfidf2 = tfidf_transformer.transform(predict)\n",
    "\n",
    "    res = neigh.kneighbors(X_tfidf2, return_distance=True)\n",
    "    \n",
    "    movies_to_score = movies.iloc[res[1][0]].title.values\n",
    "\n",
    "    scores = []\n",
    "    titles = []\n",
    "\n",
    "    for movie in movies_to_score:\n",
    "        if movie in user_movies:\n",
    "            continue\n",
    "            \n",
    "        scores.append(svd.predict(uid=user_id, iid=movie).est)\n",
    "        titles.append(movie)\n",
    "        \n",
    "    best_indexes = np.argsort(scores)[10:]\n",
    "    \n",
    "    for i in reversed(best_indexes):\n",
    "        print(titles[i], scores[i])"
   ]
  },
  {
   "cell_type": "code",
   "execution_count": 30,
   "id": "f1200e02",
   "metadata": {},
   "outputs": [
    {
     "name": "stdout",
     "output_type": "stream",
     "text": [
      "Для пользователя с ID 30 рекомендуются следующие фильмы:\n",
      "--------------\n",
      "French Connection, The (1971) 4.065736250230989\n",
      "Heat (1995) 4.028011572622383\n",
      "Die Hard (1988) 3.650946297422606\n",
      "Natural Born Killers (1994) 3.544875454146122\n",
      "Coffy (1973) 3.4967851763319637\n",
      "F/X (1986) 3.4507534717508466\n",
      "Die Hard: With a Vengeance (1995) 3.3893047272108445\n",
      "Point Break (1991) 3.3385426096538695\n",
      "Someone to Watch Over Me (1987) 3.263281216937152\n"
     ]
    }
   ],
   "source": [
    "userId = 30\n",
    "print(f'Для пользователя с ID {userId} рекомендуются следующие фильмы:')\n",
    "print('--------------')\n",
    "recommend_for_user_by_genre(userId)"
   ]
  },
  {
   "cell_type": "markdown",
   "id": "cbf075f1",
   "metadata": {},
   "source": [
    "### RecSys на основе библиотеки Lightfm"
   ]
  },
  {
   "cell_type": "markdown",
   "id": "8ef032d5",
   "metadata": {},
   "source": [
    "#### Подготовка данных"
   ]
  },
  {
   "cell_type": "code",
   "execution_count": 31,
   "id": "d62fce21",
   "metadata": {},
   "outputs": [],
   "source": [
    "def create_rate_matrix(df, shuffle = True, split_ratio = 0.8):\n",
    "    '''\n",
    "    Split the Pandas DataFrame into train and test according to the split_ratio.\n",
    "    INPUT:\n",
    "      - df: Pandas DataFrame of interaction data, including user id, product id, and rate.\n",
    "      - shuffle: boolean, whether to randomly shuffle the dataframe before splitting\n",
    "      - split_ratio: the ratio of train and test \n",
    "    OUTPUT:\n",
    "      - rate_matrix: a dictionary, keys ['train', 'test'], value is coo_matrix of the same shape \n",
    "    '''\n",
    "    if shuffle:\n",
    "        df = df.sample(frac = 1).reset_index(drop = True)\n",
    "    split_point = np.int(np.round(df.shape[0] * split_ratio))\n",
    "    df_train = df.iloc[0:split_point]\n",
    "    df_test = df.iloc[split_point::]\n",
    "    df_test = df_test[(df_test['userId'].isin(df_train['userId']))&\\\n",
    "                     (df_test['movieId'].isin(df_train['movieId']))]\n",
    "\n",
    "    print('Train dataset size is %d, test dataset size is %d' \n",
    "          % (len(df_train), len(df_test)))\n",
    "    \n",
    "    id_cols = ['userId', 'movieId']\n",
    "    trans_cat_train = dict()\n",
    "    trans_cat_test = dict()\n",
    "  \n",
    "    encoder = dict()\n",
    "    for k in id_cols:\n",
    "        le = LabelEncoder()\n",
    "        trans_cat_train[k] = le.fit_transform(df_train[k].values)\n",
    "        trans_cat_test[k] = le.transform(df_test[k].values)\n",
    "        encoder[k] = le\n",
    "        \n",
    "    trans_cat_train['rating'] = df_train['rating']\n",
    "    trans_cat_test['rating'] = df_test['rating']\n",
    "    \n",
    "    users = np.unique(trans_cat_train['userId'])\n",
    "    items = np.unique(trans_cat_train['movieId'])\n",
    "    n_users = len(users)\n",
    "    n_items = len(items)    \n",
    "    print('There are %d users and %d products in dataset.' \n",
    "          % (n_users, n_items))\n",
    "    \n",
    "    rate_matrix = dict()\n",
    "    rate_matrix['train'] = coo_matrix((trans_cat_train['rating'],\n",
    "                                       (trans_cat_train['userId'],\n",
    "                                        trans_cat_train['movieId'])),\n",
    "                                      shape = (n_users, n_items))\n",
    "    \n",
    "    rate_matrix['test'] = coo_matrix((trans_cat_test['rating'],\n",
    "                                      (trans_cat_test['userId'],\n",
    "                                       trans_cat_test['movieId'])),\n",
    "                                     shape = (n_users, n_items))\n",
    "    \n",
    "    return rate_matrix, users, items, encoder"
   ]
  },
  {
   "cell_type": "code",
   "execution_count": 32,
   "id": "193f7825",
   "metadata": {
    "scrolled": true
   },
   "outputs": [
    {
     "name": "stdout",
     "output_type": "stream",
     "text": [
      "Train dataset size is 22202755, test dataset size is 5546575\n",
      "There are 281964 users and 51610 products in dataset.\n"
     ]
    }
   ],
   "source": [
    "rating_matrix, users, items, encoder_dict = create_rate_matrix(ratings)"
   ]
  },
  {
   "cell_type": "code",
   "execution_count": 33,
   "id": "a00815d7",
   "metadata": {},
   "outputs": [],
   "source": [
    "tfidf = TfidfVectorizer()\n",
    "movie_train_tfidf = tfidf.fit_transform(movie_genres)\n",
    "movie_train_tfidf = pd.DataFrame(movie_train_tfidf.toarray(), columns=tfidf.get_feature_names_out())\n",
    "movies = movies.drop(columns=['genres'])\n",
    "movies = pd.concat([movies, movie_train_tfidf], axis=1)"
   ]
  },
  {
   "cell_type": "code",
   "execution_count": 34,
   "id": "b47634e7",
   "metadata": {},
   "outputs": [],
   "source": [
    "movies['movieId'] = movies['movieId'].apply(lambda x: \n",
    "                                                      'other' if x not in encoder_dict['movieId'].classes_ \n",
    "                                                      else x)\n",
    "\n",
    "movies = movies[movies['movieId'] != 'other']\n",
    "movies['movieId'] = encoder_dict['movieId'].transform(movies['movieId'].values)"
   ]
  },
  {
   "cell_type": "code",
   "execution_count": 35,
   "id": "ee570552",
   "metadata": {},
   "outputs": [],
   "source": [
    "columns = movies.columns.to_list()\n",
    "columns.remove('movieId')"
   ]
  },
  {
   "cell_type": "code",
   "execution_count": 36,
   "id": "4dd528b1",
   "metadata": {},
   "outputs": [],
   "source": [
    "def generate_feature_list(df, columns):\n",
    "    '''\n",
    "    Generate the list of features of corresponding columns to list\n",
    "    In order to fit the lightdm Dataset\n",
    "    '''\n",
    "    features = df[columns].apply(\n",
    "        lambda x: ','.join(x.map(str)), axis = 1)\n",
    "    features = features.str.split(',')\n",
    "    features = features.apply(pd.Series).stack().reset_index(drop = True)\n",
    "    return features"
   ]
  },
  {
   "cell_type": "code",
   "execution_count": 37,
   "id": "b60b68c8",
   "metadata": {},
   "outputs": [],
   "source": [
    "def prepare_item_features(df, columns, id_col_name):\n",
    "    '''\n",
    "    Prepare the corresponding feature formats for \n",
    "    the lightdm.dataset's build_item_features function\n",
    "    '''\n",
    "    features = df[columns].apply(\n",
    "            lambda x: ','.join(x.map(str)), axis = 1)\n",
    "    features = features.str.split(',')\n",
    "    features = list(zip(df[id_col_name], features))\n",
    "    return features"
   ]
  },
  {
   "cell_type": "markdown",
   "id": "0001ff04",
   "metadata": {},
   "source": [
    "#### Обучение модели"
   ]
  },
  {
   "cell_type": "code",
   "execution_count": 38,
   "id": "717f521b",
   "metadata": {},
   "outputs": [],
   "source": [
    "dataset = light.Dataset()\n",
    "fitting_item_features = generate_feature_list(movies, columns)\n",
    "lightdm_features = prepare_item_features(movies, columns, 'movieId')\n",
    "\n",
    "dataset.fit(users, items, item_features = fitting_item_features)\n",
    "item_feature = dataset.build_item_features(lightdm_features, \n",
    "                                            normalize = True)"
   ]
  },
  {
   "cell_type": "code",
   "execution_count": 39,
   "id": "ba9b61e8",
   "metadata": {},
   "outputs": [
    {
     "name": "stdout",
     "output_type": "stream",
     "text": [
      "Precision: train 0.23, test 0.11.\n"
     ]
    }
   ],
   "source": [
    "model = LightFM()\n",
    "model.fit(rating_matrix['train'], epochs=10)\n",
    "\n",
    "train_precision = precision_at_k(model, rating_matrix['train'], k=10).mean()\n",
    "test_precision = precision_at_k(model, rating_matrix['test'], k=10, train_interactions=rating_matrix['train']).mean()\n",
    "\n",
    "print('Precision: train %.2f, test %.2f.' % (train_precision, test_precision))"
   ]
  },
  {
   "cell_type": "code",
   "execution_count": 40,
   "id": "5ca252f0",
   "metadata": {},
   "outputs": [
    {
     "data": {
      "text/plain": [
       "array(['Toy Story (1995)', 'Jumanji (1995)', 'Grumpier Old Men (1995)',\n",
       "       ..., 'Her Name Was Mumu (2016)', 'Flora (2017)', 'Leal (2018)'],\n",
       "      dtype=object)"
      ]
     },
     "execution_count": 40,
     "metadata": {},
     "output_type": "execute_result"
    }
   ],
   "source": [
    "movies_title = np.array(movies['title'])\n",
    "movies_title"
   ]
  },
  {
   "cell_type": "code",
   "execution_count": 41,
   "id": "962863fe",
   "metadata": {},
   "outputs": [],
   "source": [
    "def sample_recommendation(model, data, user_ids):\n",
    "    n_users, n_items = data['train'].shape\n",
    "    for user_id in user_ids:\n",
    "        known_positives = movies_title[data['train'].tocsr()                                    \n",
    "                          [user_id].indices]\n",
    "        \n",
    "        scores = model.predict(user_id, np.arange(n_items))\n",
    "\n",
    "        top_items = movies_title[np.argsort(-scores)]\n",
    "        \n",
    "        print(f'Для пользователей с ID {user_id} рекомендуются следующие фильмы:')\n",
    "        print('--------------')\n",
    "        \n",
    "        for x in top_items[:10]:\n",
    "            print(\"        %s\" % x)\n",
    "        print()"
   ]
  },
  {
   "cell_type": "code",
   "execution_count": 42,
   "id": "b33d7e16",
   "metadata": {},
   "outputs": [
    {
     "name": "stdout",
     "output_type": "stream",
     "text": [
      "Для пользователей с ID 30 рекомендуются следующие фильмы:\n",
      "--------------\n",
      "        Shawshank Redemption, The (1994)\n",
      "        Forrest Gump (1994)\n",
      "        Pulp Fiction (1994)\n",
      "        Silence of the Lambs, The (1991)\n",
      "        Matrix, The (1999)\n",
      "        Star Wars: Episode IV - A New Hope (1977)\n",
      "        Jurassic Park (1993)\n",
      "        Schindler's List (1993)\n",
      "        Braveheart (1995)\n",
      "        Toy Story (1995)\n",
      "\n",
      "Для пользователей с ID 600 рекомендуются следующие фильмы:\n",
      "--------------\n",
      "        Shawshank Redemption, The (1994)\n",
      "        Forrest Gump (1994)\n",
      "        Pulp Fiction (1994)\n",
      "        Silence of the Lambs, The (1991)\n",
      "        Matrix, The (1999)\n",
      "        Star Wars: Episode IV - A New Hope (1977)\n",
      "        Jurassic Park (1993)\n",
      "        Schindler's List (1993)\n",
      "        Braveheart (1995)\n",
      "        Toy Story (1995)\n",
      "\n"
     ]
    }
   ],
   "source": [
    "userId = [30, 600]\n",
    "sample_recommendation(model, rating_matrix, userId)"
   ]
  },
  {
   "cell_type": "markdown",
   "id": "462cb9cb",
   "metadata": {},
   "source": [
    "### Вывод:\n",
    "\n",
    "В проекте были построены соедующие рекомендательные модели на основе:\n",
    "- SVD библиотеки surprise\n",
    "- content-based с применением TF-IDF и метода NearestNeighbors\n",
    "- гибридной модели из двух предыдущих\n",
    "- библиотеки Lightfm"
   ]
  }
 ],
 "metadata": {
  "kernelspec": {
   "display_name": "Python 3 (ipykernel)",
   "language": "python",
   "name": "python3"
  },
  "language_info": {
   "codemirror_mode": {
    "name": "ipython",
    "version": 3
   },
   "file_extension": ".py",
   "mimetype": "text/x-python",
   "name": "python",
   "nbconvert_exporter": "python",
   "pygments_lexer": "ipython3",
   "version": "3.10.9"
  }
 },
 "nbformat": 4,
 "nbformat_minor": 5
}
