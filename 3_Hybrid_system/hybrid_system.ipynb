{
 "cells": [
  {
   "cell_type": "markdown",
   "id": "d097f55b",
   "metadata": {},
   "source": [
    "### Описание задания:\n",
    "\n",
    "- Использовать датасет ml-latest.\n",
    "- Выбрать подходящий подход к построению гибридным системам для предоставления рекомендаций.\n",
    "- Написать свою гибридную систему"
   ]
  },
  {
   "cell_type": "code",
   "execution_count": 1,
   "id": "65b0e561",
   "metadata": {},
   "outputs": [],
   "source": [
    "import wget\n",
    "import zipfile\n",
    "\n",
    "import pandas as pd"
   ]
  },
  {
   "cell_type": "code",
   "execution_count": 4,
   "id": "093cb84a",
   "metadata": {},
   "outputs": [],
   "source": [
    "dataset = 'ml-latest'\n",
    "url = f'https://files.grouplens.org/datasets/movielens/{dataset}.zip'"
   ]
  },
  {
   "cell_type": "code",
   "execution_count": 5,
   "id": "74918739",
   "metadata": {},
   "outputs": [
    {
     "name": "stdout",
     "output_type": "stream",
     "text": [
      "100% [......................................................................] 277113433 / 277113433"
     ]
    },
    {
     "data": {
      "text/plain": [
       "'ml-latest.zip'"
      ]
     },
     "execution_count": 5,
     "metadata": {},
     "output_type": "execute_result"
    }
   ],
   "source": [
    "wget.download(url, f'{dataset}.zip')"
   ]
  },
  {
   "cell_type": "code",
   "execution_count": 7,
   "id": "719050f1",
   "metadata": {},
   "outputs": [],
   "source": [
    "with zipfile.ZipFile(f'{dataset}.zip', 'r') as zip_data:\n",
    "    zip_data.extractall()"
   ]
  },
  {
   "cell_type": "code",
   "execution_count": 8,
   "id": "9236bce8",
   "metadata": {},
   "outputs": [],
   "source": [
    "movies = pd.read_csv(f'./{dataset}/movies.csv')\n",
    "movies.name = 'movies'\n",
    "ratings = pd.read_csv(f'./{dataset}/ratings.csv')\n",
    "ratings.name = 'ratings'\n",
    "tags = pd.read_csv(f'./{dataset}/tags.csv')\n",
    "tags.name = 'tags'"
   ]
  },
  {
   "cell_type": "code",
   "execution_count": 9,
   "id": "4addee13",
   "metadata": {},
   "outputs": [],
   "source": [
    "def get_analises(dataset) -> None:\n",
    "    print(dataset.name)\n",
    "    dataset.info()\n",
    "    print(f'Дублирующих записей: {dataset.duplicated().sum()}')\n",
    "    print('------------')"
   ]
  },
  {
   "cell_type": "markdown",
   "id": "6b5c1063",
   "metadata": {},
   "source": [
    "### Первичный анализ данных"
   ]
  },
  {
   "cell_type": "code",
   "execution_count": 10,
   "id": "a8178f08",
   "metadata": {},
   "outputs": [
    {
     "name": "stdout",
     "output_type": "stream",
     "text": [
      "movies\n",
      "<class 'pandas.core.frame.DataFrame'>\n",
      "RangeIndex: 58098 entries, 0 to 58097\n",
      "Data columns (total 3 columns):\n",
      " #   Column   Non-Null Count  Dtype \n",
      "---  ------   --------------  ----- \n",
      " 0   movieId  58098 non-null  int64 \n",
      " 1   title    58098 non-null  object\n",
      " 2   genres   58098 non-null  object\n",
      "dtypes: int64(1), object(2)\n",
      "memory usage: 1.3+ MB\n",
      "Дублирующих записей: 0\n",
      "------------\n",
      "ratings\n",
      "<class 'pandas.core.frame.DataFrame'>\n",
      "RangeIndex: 27753444 entries, 0 to 27753443\n",
      "Data columns (total 4 columns):\n",
      " #   Column     Dtype  \n",
      "---  ------     -----  \n",
      " 0   userId     int64  \n",
      " 1   movieId    int64  \n",
      " 2   rating     float64\n",
      " 3   timestamp  int64  \n",
      "dtypes: float64(1), int64(3)\n",
      "memory usage: 847.0 MB\n",
      "Дублирующих записей: 0\n",
      "------------\n",
      "tags\n",
      "<class 'pandas.core.frame.DataFrame'>\n",
      "RangeIndex: 1108997 entries, 0 to 1108996\n",
      "Data columns (total 4 columns):\n",
      " #   Column     Non-Null Count    Dtype \n",
      "---  ------     --------------    ----- \n",
      " 0   userId     1108997 non-null  int64 \n",
      " 1   movieId    1108997 non-null  int64 \n",
      " 2   tag        1108981 non-null  object\n",
      " 3   timestamp  1108997 non-null  int64 \n",
      "dtypes: int64(3), object(1)\n",
      "memory usage: 33.8+ MB\n",
      "Дублирующих записей: 0\n",
      "------------\n"
     ]
    }
   ],
   "source": [
    "get_analises(movies)\n",
    "get_analises(ratings)\n",
    "get_analises(tags)"
   ]
  }
 ],
 "metadata": {
  "kernelspec": {
   "display_name": "Python 3 (ipykernel)",
   "language": "python",
   "name": "python3"
  },
  "language_info": {
   "codemirror_mode": {
    "name": "ipython",
    "version": 3
   },
   "file_extension": ".py",
   "mimetype": "text/x-python",
   "name": "python",
   "nbconvert_exporter": "python",
   "pygments_lexer": "ipython3",
   "version": "3.9.16"
  }
 },
 "nbformat": 4,
 "nbformat_minor": 5
}
