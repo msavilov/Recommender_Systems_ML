{
 "cells": [
  {
   "cell_type": "markdown",
   "id": "ed0cc7b0",
   "metadata": {},
   "source": [
    "### Описание задания\n",
    "\n",
    "1) Использовать датасет [MovieLens](https://grouplens.org/datasets/movielens/latest/).\n",
    "\n",
    "2) Построить рекомендации (регрессия, предсказываем оценку) на фичах:\n",
    "\n",
    "    **a)** TF-IDF на тегах и жанрах;\n",
    "    \n",
    "    **b)** средние оценки (+ median, variance и т. д.) пользователя и фильма.\n",
    "\n",
    "3) Оценить RMSE на тестовой выборке."
   ]
  },
  {
   "cell_type": "code",
   "execution_count": 53,
   "id": "80c238e3",
   "metadata": {},
   "outputs": [],
   "source": [
    "import wget\n",
    "import zipfile\n",
    "\n",
    "import pandas as pd\n",
    "import numpy as np\n",
    "from collections import Counter\n",
    "from datetime import datetime\n",
    "from tqdm.notebook import tqdm\n",
    "import matplotlib.pyplot as plt\n",
    "\n",
    "\n",
    "from sklearn.feature_extraction.text import TfidfVectorizer\n",
    "from sklearn.linear_model import LinearRegression\n",
    "from sklearn.metrics import mean_squared_error\n",
    "from sklearn.model_selection import train_test_split\n",
    "from sklearn.preprocessing import StandardScaler"
   ]
  },
  {
   "cell_type": "code",
   "execution_count": 2,
   "id": "6d2e9958",
   "metadata": {},
   "outputs": [],
   "source": [
    "small_dataset = 'ml-latest-small'\n",
    "dataset = 'ml-latest'"
   ]
  },
  {
   "cell_type": "markdown",
   "id": "a48b7801",
   "metadata": {},
   "source": [
    "Для проверки работы модели использовать: small_dataset(size: 1 MB)\n",
    "\n",
    "Для совновной работы использовать: dataset (size: 265 MB)"
   ]
  },
  {
   "cell_type": "code",
   "execution_count": 3,
   "id": "c634e6e7",
   "metadata": {
    "scrolled": true
   },
   "outputs": [
    {
     "name": "stdout",
     "output_type": "stream",
     "text": [
      "100% [............................................................................] 978202 / 978202"
     ]
    },
    {
     "data": {
      "text/plain": [
       "'MovieLens (1).zip'"
      ]
     },
     "execution_count": 3,
     "metadata": {},
     "output_type": "execute_result"
    }
   ],
   "source": [
    "url = f'https://files.grouplens.org/datasets/movielens/{small_dataset}.zip'\n",
    "wget.download(url, 'MovieLens.zip')"
   ]
  },
  {
   "cell_type": "code",
   "execution_count": 4,
   "id": "f1e3880f",
   "metadata": {},
   "outputs": [],
   "source": [
    "with zipfile.ZipFile(\"MovieLens.zip\",\"r\") as zip_ref:\n",
    "    zip_ref.extractall()"
   ]
  },
  {
   "cell_type": "code",
   "execution_count": 5,
   "id": "134e527f",
   "metadata": {},
   "outputs": [],
   "source": [
    "links = pd.read_csv(f'./{small_dataset}/links.csv')\n",
    "links.name = 'links'\n",
    "movies = pd.read_csv(f'./{small_dataset}/movies.csv')\n",
    "movies.name = 'movies'\n",
    "ratings = pd.read_csv(f'./{small_dataset}/ratings.csv')\n",
    "ratings.name = 'ratings'\n",
    "tags = pd.read_csv(f'./{small_dataset}/tags.csv')\n",
    "tags.name = 'tags'"
   ]
  },
  {
   "cell_type": "markdown",
   "id": "f4785dd2",
   "metadata": {},
   "source": [
    "### Первичный анализ данных"
   ]
  },
  {
   "cell_type": "code",
   "execution_count": 6,
   "id": "d2f9979d",
   "metadata": {},
   "outputs": [],
   "source": [
    "def get_analises(dataset) -> None:\n",
    "    print(dataset.name)\n",
    "    dataset.info()\n",
    "    print(f'Дублирующих записей: {dataset.duplicated().sum()}')\n",
    "    print('------------')"
   ]
  },
  {
   "cell_type": "code",
   "execution_count": 7,
   "id": "b0577ae8",
   "metadata": {},
   "outputs": [
    {
     "name": "stdout",
     "output_type": "stream",
     "text": [
      "links\n",
      "<class 'pandas.core.frame.DataFrame'>\n",
      "RangeIndex: 9742 entries, 0 to 9741\n",
      "Data columns (total 3 columns):\n",
      " #   Column   Non-Null Count  Dtype  \n",
      "---  ------   --------------  -----  \n",
      " 0   movieId  9742 non-null   int64  \n",
      " 1   imdbId   9742 non-null   int64  \n",
      " 2   tmdbId   9734 non-null   float64\n",
      "dtypes: float64(1), int64(2)\n",
      "memory usage: 228.5 KB\n",
      "Дублирующих записей: 0\n",
      "------------\n",
      "movies\n",
      "<class 'pandas.core.frame.DataFrame'>\n",
      "RangeIndex: 9742 entries, 0 to 9741\n",
      "Data columns (total 3 columns):\n",
      " #   Column   Non-Null Count  Dtype \n",
      "---  ------   --------------  ----- \n",
      " 0   movieId  9742 non-null   int64 \n",
      " 1   title    9742 non-null   object\n",
      " 2   genres   9742 non-null   object\n",
      "dtypes: int64(1), object(2)\n",
      "memory usage: 228.5+ KB\n",
      "Дублирующих записей: 0\n",
      "------------\n",
      "ratings\n",
      "<class 'pandas.core.frame.DataFrame'>\n",
      "RangeIndex: 100836 entries, 0 to 100835\n",
      "Data columns (total 4 columns):\n",
      " #   Column     Non-Null Count   Dtype  \n",
      "---  ------     --------------   -----  \n",
      " 0   userId     100836 non-null  int64  \n",
      " 1   movieId    100836 non-null  int64  \n",
      " 2   rating     100836 non-null  float64\n",
      " 3   timestamp  100836 non-null  int64  \n",
      "dtypes: float64(1), int64(3)\n",
      "memory usage: 3.1 MB\n",
      "Дублирующих записей: 0\n",
      "------------\n",
      "tags\n",
      "<class 'pandas.core.frame.DataFrame'>\n",
      "RangeIndex: 3683 entries, 0 to 3682\n",
      "Data columns (total 4 columns):\n",
      " #   Column     Non-Null Count  Dtype \n",
      "---  ------     --------------  ----- \n",
      " 0   userId     3683 non-null   int64 \n",
      " 1   movieId    3683 non-null   int64 \n",
      " 2   tag        3683 non-null   object\n",
      " 3   timestamp  3683 non-null   int64 \n",
      "dtypes: int64(3), object(1)\n",
      "memory usage: 115.2+ KB\n",
      "Дублирующих записей: 0\n",
      "------------\n"
     ]
    }
   ],
   "source": [
    "get_analises(links)\n",
    "get_analises(movies)\n",
    "get_analises(ratings)\n",
    "get_analises(tags)"
   ]
  },
  {
   "cell_type": "markdown",
   "id": "4b18b1df",
   "metadata": {},
   "source": [
    "**Пользователи**"
   ]
  },
  {
   "cell_type": "code",
   "execution_count": 8,
   "id": "548078b1",
   "metadata": {},
   "outputs": [],
   "source": [
    "grouped_users = tags['userId'].value_counts()"
   ]
  },
  {
   "cell_type": "code",
   "execution_count": 9,
   "id": "d9e1be8d",
   "metadata": {},
   "outputs": [
    {
     "name": "stdout",
     "output_type": "stream",
     "text": [
      "Уникальных пользователей в датасете: 58\n"
     ]
    }
   ],
   "source": [
    "print(f'Уникальных пользователей в датасете: {len(grouped_users)}')"
   ]
  },
  {
   "cell_type": "code",
   "execution_count": 10,
   "id": "1d4b6f6b",
   "metadata": {},
   "outputs": [
    {
     "data": {
      "image/png": "[encoded data removed]",
      "text/plain": [
       "<Figure size 800x600 with 1 Axes>"
      ]
     },
     "metadata": {},
     "output_type": "display_data"
    }
   ],
   "source": [
    "plt.figure(figsize=[8,6])\n",
    "grouped_users.hist(bins=20)\n",
    "plt.title('Распределение по количеству проставленных тегов среди пользователей')\n",
    "plt.xlabel('Число пользователей')\n",
    "plt.xlabel('Количество проставленных тегов')\n",
    "plt.show()"
   ]
  },
  {
   "cell_type": "markdown",
   "id": "c3761139",
   "metadata": {},
   "source": [
    "**Фильмы**"
   ]
  },
  {
   "cell_type": "code",
   "execution_count": 11,
   "id": "d3535339",
   "metadata": {},
   "outputs": [],
   "source": [
    "grouped_movies = tags['movieId'].value_counts()"
   ]
  },
  {
   "cell_type": "code",
   "execution_count": 12,
   "id": "21fd7760",
   "metadata": {},
   "outputs": [
    {
     "name": "stdout",
     "output_type": "stream",
     "text": [
      "Уникальных фильмов в датасете: 1572\n"
     ]
    }
   ],
   "source": [
    "print(f'Уникальных фильмов в датасете: {len(grouped_movies)}')"
   ]
  },
  {
   "cell_type": "code",
   "execution_count": 13,
   "id": "8eab7ec7",
   "metadata": {},
   "outputs": [
    {
     "data": {
      "image/png": "[encoded data removed]",
      "text/plain": [
       "<Figure size 800x600 with 1 Axes>"
      ]
     },
     "metadata": {},
     "output_type": "display_data"
    }
   ],
   "source": [
    "plt.figure(figsize=[8,6])\n",
    "grouped_movies.hist(bins=20)\n",
    "plt.title('Распределение по количеству проставленных тегов в фильмах')\n",
    "plt.xlabel('Число тегов')\n",
    "plt.xlabel('Количество фильмов')\n",
    "plt.show()"
   ]
  },
  {
   "cell_type": "markdown",
   "id": "84b43bb9",
   "metadata": {},
   "source": [
    "### Произведём преобразование данных в вектора (TF-IDF) для жанров и тегов"
   ]
  },
  {
   "cell_type": "code",
   "execution_count": 14,
   "id": "94d66512",
   "metadata": {},
   "outputs": [],
   "source": [
    "def change_string(s):\n",
    "    return ' '.join(s.replace(' ', '').replace('-', '').split('|'))"
   ]
  },
  {
   "cell_type": "code",
   "execution_count": 15,
   "id": "3313048d",
   "metadata": {},
   "outputs": [],
   "source": [
    "movie_genres = [change_string(value) for value in movies.genres.values]"
   ]
  },
  {
   "cell_type": "code",
   "execution_count": 16,
   "id": "7089c493",
   "metadata": {},
   "outputs": [],
   "source": [
    "tfidf = TfidfVectorizer()\n",
    "movie_train_tfidf = tfidf.fit_transform(movie_genres)\n",
    "movie_train_tfidf = pd.DataFrame(movie_train_tfidf.toarray(), columns=tfidf.get_feature_names_out())"
   ]
  },
  {
   "cell_type": "code",
   "execution_count": 17,
   "id": "2261a4cf",
   "metadata": {},
   "outputs": [],
   "source": [
    "movies = movies.drop(columns=['genres', 'title'])\n",
    "movies = pd.concat([movies, movie_train_tfidf], axis=1)"
   ]
  },
  {
   "cell_type": "code",
   "execution_count": 18,
   "id": "ea73bc16",
   "metadata": {
    "scrolled": true
   },
   "outputs": [
    {
     "data": {
      "text/html": [
       "<div>\n",
       "<style scoped>\n",
       "    .dataframe tbody tr th:only-of-type {\n",
       "        vertical-align: middle;\n",
       "    }\n",
       "\n",
       "    .dataframe tbody tr th {\n",
       "        vertical-align: top;\n",
       "    }\n",
       "\n",
       "    .dataframe thead th {\n",
       "        text-align: right;\n",
       "    }\n",
       "</style>\n",
       "<table border=\"1\" class=\"dataframe\">\n",
       "  <thead>\n",
       "    <tr style=\"text-align: right;\">\n",
       "      <th></th>\n",
       "      <th>movieId</th>\n",
       "      <th>action</th>\n",
       "      <th>adventure</th>\n",
       "      <th>animation</th>\n",
       "      <th>children</th>\n",
       "      <th>comedy</th>\n",
       "      <th>crime</th>\n",
       "      <th>documentary</th>\n",
       "      <th>drama</th>\n",
       "      <th>fantasy</th>\n",
       "      <th>...</th>\n",
       "      <th>horror</th>\n",
       "      <th>imax</th>\n",
       "      <th>musical</th>\n",
       "      <th>mystery</th>\n",
       "      <th>nogenreslisted</th>\n",
       "      <th>romance</th>\n",
       "      <th>scifi</th>\n",
       "      <th>thriller</th>\n",
       "      <th>war</th>\n",
       "      <th>western</th>\n",
       "    </tr>\n",
       "  </thead>\n",
       "  <tbody>\n",
       "    <tr>\n",
       "      <th>0</th>\n",
       "      <td>1</td>\n",
       "      <td>0.0</td>\n",
       "      <td>0.416846</td>\n",
       "      <td>0.516225</td>\n",
       "      <td>0.504845</td>\n",
       "      <td>0.267586</td>\n",
       "      <td>0.0</td>\n",
       "      <td>0.0</td>\n",
       "      <td>0.000000</td>\n",
       "      <td>0.482990</td>\n",
       "      <td>...</td>\n",
       "      <td>0.0</td>\n",
       "      <td>0.0</td>\n",
       "      <td>0.0</td>\n",
       "      <td>0.0</td>\n",
       "      <td>0.0</td>\n",
       "      <td>0.000000</td>\n",
       "      <td>0.0</td>\n",
       "      <td>0.0</td>\n",
       "      <td>0.0</td>\n",
       "      <td>0.0</td>\n",
       "    </tr>\n",
       "    <tr>\n",
       "      <th>1</th>\n",
       "      <td>2</td>\n",
       "      <td>0.0</td>\n",
       "      <td>0.512361</td>\n",
       "      <td>0.000000</td>\n",
       "      <td>0.620525</td>\n",
       "      <td>0.000000</td>\n",
       "      <td>0.0</td>\n",
       "      <td>0.0</td>\n",
       "      <td>0.000000</td>\n",
       "      <td>0.593662</td>\n",
       "      <td>...</td>\n",
       "      <td>0.0</td>\n",
       "      <td>0.0</td>\n",
       "      <td>0.0</td>\n",
       "      <td>0.0</td>\n",
       "      <td>0.0</td>\n",
       "      <td>0.000000</td>\n",
       "      <td>0.0</td>\n",
       "      <td>0.0</td>\n",
       "      <td>0.0</td>\n",
       "      <td>0.0</td>\n",
       "    </tr>\n",
       "    <tr>\n",
       "      <th>2</th>\n",
       "      <td>3</td>\n",
       "      <td>0.0</td>\n",
       "      <td>0.000000</td>\n",
       "      <td>0.000000</td>\n",
       "      <td>0.000000</td>\n",
       "      <td>0.570915</td>\n",
       "      <td>0.0</td>\n",
       "      <td>0.0</td>\n",
       "      <td>0.000000</td>\n",
       "      <td>0.000000</td>\n",
       "      <td>...</td>\n",
       "      <td>0.0</td>\n",
       "      <td>0.0</td>\n",
       "      <td>0.0</td>\n",
       "      <td>0.0</td>\n",
       "      <td>0.0</td>\n",
       "      <td>0.821009</td>\n",
       "      <td>0.0</td>\n",
       "      <td>0.0</td>\n",
       "      <td>0.0</td>\n",
       "      <td>0.0</td>\n",
       "    </tr>\n",
       "    <tr>\n",
       "      <th>3</th>\n",
       "      <td>4</td>\n",
       "      <td>0.0</td>\n",
       "      <td>0.000000</td>\n",
       "      <td>0.000000</td>\n",
       "      <td>0.000000</td>\n",
       "      <td>0.505015</td>\n",
       "      <td>0.0</td>\n",
       "      <td>0.0</td>\n",
       "      <td>0.466405</td>\n",
       "      <td>0.000000</td>\n",
       "      <td>...</td>\n",
       "      <td>0.0</td>\n",
       "      <td>0.0</td>\n",
       "      <td>0.0</td>\n",
       "      <td>0.0</td>\n",
       "      <td>0.0</td>\n",
       "      <td>0.726241</td>\n",
       "      <td>0.0</td>\n",
       "      <td>0.0</td>\n",
       "      <td>0.0</td>\n",
       "      <td>0.0</td>\n",
       "    </tr>\n",
       "    <tr>\n",
       "      <th>4</th>\n",
       "      <td>5</td>\n",
       "      <td>0.0</td>\n",
       "      <td>0.000000</td>\n",
       "      <td>0.000000</td>\n",
       "      <td>0.000000</td>\n",
       "      <td>1.000000</td>\n",
       "      <td>0.0</td>\n",
       "      <td>0.0</td>\n",
       "      <td>0.000000</td>\n",
       "      <td>0.000000</td>\n",
       "      <td>...</td>\n",
       "      <td>0.0</td>\n",
       "      <td>0.0</td>\n",
       "      <td>0.0</td>\n",
       "      <td>0.0</td>\n",
       "      <td>0.0</td>\n",
       "      <td>0.000000</td>\n",
       "      <td>0.0</td>\n",
       "      <td>0.0</td>\n",
       "      <td>0.0</td>\n",
       "      <td>0.0</td>\n",
       "    </tr>\n",
       "  </tbody>\n",
       "</table>\n",
       "<p>5 rows × 21 columns</p>\n",
       "</div>"
      ],
      "text/plain": [
       "   movieId  action  adventure  animation  children    comedy  crime  \\\n",
       "0        1     0.0   0.416846   0.516225  0.504845  0.267586    0.0   \n",
       "1        2     0.0   0.512361   0.000000  0.620525  0.000000    0.0   \n",
       "2        3     0.0   0.000000   0.000000  0.000000  0.570915    0.0   \n",
       "3        4     0.0   0.000000   0.000000  0.000000  0.505015    0.0   \n",
       "4        5     0.0   0.000000   0.000000  0.000000  1.000000    0.0   \n",
       "\n",
       "   documentary     drama   fantasy  ...  horror  imax  musical  mystery  \\\n",
       "0          0.0  0.000000  0.482990  ...     0.0   0.0      0.0      0.0   \n",
       "1          0.0  0.000000  0.593662  ...     0.0   0.0      0.0      0.0   \n",
       "2          0.0  0.000000  0.000000  ...     0.0   0.0      0.0      0.0   \n",
       "3          0.0  0.466405  0.000000  ...     0.0   0.0      0.0      0.0   \n",
       "4          0.0  0.000000  0.000000  ...     0.0   0.0      0.0      0.0   \n",
       "\n",
       "   nogenreslisted   romance  scifi  thriller  war  western  \n",
       "0             0.0  0.000000    0.0       0.0  0.0      0.0  \n",
       "1             0.0  0.000000    0.0       0.0  0.0      0.0  \n",
       "2             0.0  0.821009    0.0       0.0  0.0      0.0  \n",
       "3             0.0  0.726241    0.0       0.0  0.0      0.0  \n",
       "4             0.0  0.000000    0.0       0.0  0.0      0.0  \n",
       "\n",
       "[5 rows x 21 columns]"
      ]
     },
     "execution_count": 18,
     "metadata": {},
     "output_type": "execute_result"
    }
   ],
   "source": [
    "movies.head()"
   ]
  },
  {
   "cell_type": "code",
   "execution_count": 19,
   "id": "f513f354",
   "metadata": {},
   "outputs": [
    {
     "data": {
      "application/vnd.jupyter.widget-view+json": {
       "model_id": "41cf67e4730f4a6cb3d0184e29d229ba",
       "version_major": 2,
       "version_minor": 0
      },
      "text/plain": [
       "  0%|          | 0/1572 [00:00<?, ?it/s]"
      ]
     },
     "metadata": {},
     "output_type": "display_data"
    }
   ],
   "source": [
    "tag_strings = []\n",
    "new_movies = []\n",
    "\n",
    "for movie, group in tqdm(tags.groupby('movieId')):\n",
    "    tag_strings.append(' '.join(set([change_string(str(s)) for s in group.tag.values])))\n",
    "    new_movies.append(movie)"
   ]
  },
  {
   "cell_type": "markdown",
   "id": "d972ada7",
   "metadata": {},
   "source": [
    "Добавим set, чтобы у нас остались только уникальные теги"
   ]
  },
  {
   "cell_type": "code",
   "execution_count": 20,
   "id": "ea211c8b",
   "metadata": {},
   "outputs": [],
   "source": [
    "tfidf_tag = TfidfVectorizer()\n",
    "tag_train_tfidf = tfidf_tag.fit_transform(tag_strings)\n",
    "tag_train_tfidf = pd.DataFrame(tag_train_tfidf.toarray(), columns=tfidf_tag.get_feature_names_out())"
   ]
  },
  {
   "cell_type": "code",
   "execution_count": 21,
   "id": "5d8e6786",
   "metadata": {},
   "outputs": [
    {
     "data": {
      "text/html": [
       "<div>\n",
       "<style scoped>\n",
       "    .dataframe tbody tr th:only-of-type {\n",
       "        vertical-align: middle;\n",
       "    }\n",
       "\n",
       "    .dataframe tbody tr th {\n",
       "        vertical-align: top;\n",
       "    }\n",
       "\n",
       "    .dataframe thead th {\n",
       "        text-align: right;\n",
       "    }\n",
       "</style>\n",
       "<table border=\"1\" class=\"dataframe\">\n",
       "  <thead>\n",
       "    <tr style=\"text-align: right;\">\n",
       "      <th></th>\n",
       "      <th>movieId</th>\n",
       "      <th>06oscarnominatedbestmovieanimation</th>\n",
       "      <th>1900s</th>\n",
       "      <th>1920s</th>\n",
       "      <th>1950s</th>\n",
       "      <th>1960s</th>\n",
       "      <th>1970s</th>\n",
       "      <th>1980s</th>\n",
       "      <th>1990s</th>\n",
       "      <th>2001like</th>\n",
       "      <th>...</th>\n",
       "      <th>worldwari</th>\n",
       "      <th>worldwarii</th>\n",
       "      <th>writing</th>\n",
       "      <th>wrongfulimprisonment</th>\n",
       "      <th>wry</th>\n",
       "      <th>youngermen</th>\n",
       "      <th>zither</th>\n",
       "      <th>zoekazan</th>\n",
       "      <th>zombies</th>\n",
       "      <th>zooeydeschanel</th>\n",
       "    </tr>\n",
       "  </thead>\n",
       "  <tbody>\n",
       "    <tr>\n",
       "      <th>0</th>\n",
       "      <td>1</td>\n",
       "      <td>0.0</td>\n",
       "      <td>0.0</td>\n",
       "      <td>0.0</td>\n",
       "      <td>0.0</td>\n",
       "      <td>0.0</td>\n",
       "      <td>0.0</td>\n",
       "      <td>0.0</td>\n",
       "      <td>0.0</td>\n",
       "      <td>0.0</td>\n",
       "      <td>...</td>\n",
       "      <td>0.0</td>\n",
       "      <td>0.0</td>\n",
       "      <td>0.0</td>\n",
       "      <td>0.0</td>\n",
       "      <td>0.0</td>\n",
       "      <td>0.0</td>\n",
       "      <td>0.0</td>\n",
       "      <td>0.0</td>\n",
       "      <td>0.0</td>\n",
       "      <td>0.0</td>\n",
       "    </tr>\n",
       "    <tr>\n",
       "      <th>1</th>\n",
       "      <td>2</td>\n",
       "      <td>0.0</td>\n",
       "      <td>0.0</td>\n",
       "      <td>0.0</td>\n",
       "      <td>0.0</td>\n",
       "      <td>0.0</td>\n",
       "      <td>0.0</td>\n",
       "      <td>0.0</td>\n",
       "      <td>0.0</td>\n",
       "      <td>0.0</td>\n",
       "      <td>...</td>\n",
       "      <td>0.0</td>\n",
       "      <td>0.0</td>\n",
       "      <td>0.0</td>\n",
       "      <td>0.0</td>\n",
       "      <td>0.0</td>\n",
       "      <td>0.0</td>\n",
       "      <td>0.0</td>\n",
       "      <td>0.0</td>\n",
       "      <td>0.0</td>\n",
       "      <td>0.0</td>\n",
       "    </tr>\n",
       "    <tr>\n",
       "      <th>2</th>\n",
       "      <td>3</td>\n",
       "      <td>0.0</td>\n",
       "      <td>0.0</td>\n",
       "      <td>0.0</td>\n",
       "      <td>0.0</td>\n",
       "      <td>0.0</td>\n",
       "      <td>0.0</td>\n",
       "      <td>0.0</td>\n",
       "      <td>0.0</td>\n",
       "      <td>0.0</td>\n",
       "      <td>...</td>\n",
       "      <td>0.0</td>\n",
       "      <td>0.0</td>\n",
       "      <td>0.0</td>\n",
       "      <td>0.0</td>\n",
       "      <td>0.0</td>\n",
       "      <td>0.0</td>\n",
       "      <td>0.0</td>\n",
       "      <td>0.0</td>\n",
       "      <td>0.0</td>\n",
       "      <td>0.0</td>\n",
       "    </tr>\n",
       "    <tr>\n",
       "      <th>3</th>\n",
       "      <td>5</td>\n",
       "      <td>0.0</td>\n",
       "      <td>0.0</td>\n",
       "      <td>0.0</td>\n",
       "      <td>0.0</td>\n",
       "      <td>0.0</td>\n",
       "      <td>0.0</td>\n",
       "      <td>0.0</td>\n",
       "      <td>0.0</td>\n",
       "      <td>0.0</td>\n",
       "      <td>...</td>\n",
       "      <td>0.0</td>\n",
       "      <td>0.0</td>\n",
       "      <td>0.0</td>\n",
       "      <td>0.0</td>\n",
       "      <td>0.0</td>\n",
       "      <td>0.0</td>\n",
       "      <td>0.0</td>\n",
       "      <td>0.0</td>\n",
       "      <td>0.0</td>\n",
       "      <td>0.0</td>\n",
       "    </tr>\n",
       "    <tr>\n",
       "      <th>4</th>\n",
       "      <td>7</td>\n",
       "      <td>0.0</td>\n",
       "      <td>0.0</td>\n",
       "      <td>0.0</td>\n",
       "      <td>0.0</td>\n",
       "      <td>0.0</td>\n",
       "      <td>0.0</td>\n",
       "      <td>0.0</td>\n",
       "      <td>0.0</td>\n",
       "      <td>0.0</td>\n",
       "      <td>...</td>\n",
       "      <td>0.0</td>\n",
       "      <td>0.0</td>\n",
       "      <td>0.0</td>\n",
       "      <td>0.0</td>\n",
       "      <td>0.0</td>\n",
       "      <td>0.0</td>\n",
       "      <td>0.0</td>\n",
       "      <td>0.0</td>\n",
       "      <td>0.0</td>\n",
       "      <td>0.0</td>\n",
       "    </tr>\n",
       "  </tbody>\n",
       "</table>\n",
       "<p>5 rows × 1473 columns</p>\n",
       "</div>"
      ],
      "text/plain": [
       "   movieId  06oscarnominatedbestmovieanimation  1900s  1920s  1950s  1960s  \\\n",
       "0        1                                 0.0    0.0    0.0    0.0    0.0   \n",
       "1        2                                 0.0    0.0    0.0    0.0    0.0   \n",
       "2        3                                 0.0    0.0    0.0    0.0    0.0   \n",
       "3        5                                 0.0    0.0    0.0    0.0    0.0   \n",
       "4        7                                 0.0    0.0    0.0    0.0    0.0   \n",
       "\n",
       "   1970s  1980s  1990s  2001like  ...  worldwari  worldwarii  writing  \\\n",
       "0    0.0    0.0    0.0       0.0  ...        0.0         0.0      0.0   \n",
       "1    0.0    0.0    0.0       0.0  ...        0.0         0.0      0.0   \n",
       "2    0.0    0.0    0.0       0.0  ...        0.0         0.0      0.0   \n",
       "3    0.0    0.0    0.0       0.0  ...        0.0         0.0      0.0   \n",
       "4    0.0    0.0    0.0       0.0  ...        0.0         0.0      0.0   \n",
       "\n",
       "   wrongfulimprisonment  wry  youngermen  zither  zoekazan  zombies  \\\n",
       "0                   0.0  0.0         0.0     0.0       0.0      0.0   \n",
       "1                   0.0  0.0         0.0     0.0       0.0      0.0   \n",
       "2                   0.0  0.0         0.0     0.0       0.0      0.0   \n",
       "3                   0.0  0.0         0.0     0.0       0.0      0.0   \n",
       "4                   0.0  0.0         0.0     0.0       0.0      0.0   \n",
       "\n",
       "   zooeydeschanel  \n",
       "0             0.0  \n",
       "1             0.0  \n",
       "2             0.0  \n",
       "3             0.0  \n",
       "4             0.0  \n",
       "\n",
       "[5 rows x 1473 columns]"
      ]
     },
     "execution_count": 21,
     "metadata": {},
     "output_type": "execute_result"
    }
   ],
   "source": [
    "new_tags = pd.concat([pd.DataFrame(new_movies, columns=['movieId']), tag_train_tfidf], axis=1)\n",
    "new_tags.head()"
   ]
  },
  {
   "cell_type": "code",
   "execution_count": 22,
   "id": "70b6991a",
   "metadata": {},
   "outputs": [
    {
     "data": {
      "text/html": [
       "<div>\n",
       "<style scoped>\n",
       "    .dataframe tbody tr th:only-of-type {\n",
       "        vertical-align: middle;\n",
       "    }\n",
       "\n",
       "    .dataframe tbody tr th {\n",
       "        vertical-align: top;\n",
       "    }\n",
       "\n",
       "    .dataframe thead th {\n",
       "        text-align: right;\n",
       "    }\n",
       "</style>\n",
       "<table border=\"1\" class=\"dataframe\">\n",
       "  <thead>\n",
       "    <tr style=\"text-align: right;\">\n",
       "      <th></th>\n",
       "      <th>movieId</th>\n",
       "      <th>action_x</th>\n",
       "      <th>adventure_x</th>\n",
       "      <th>animation_x</th>\n",
       "      <th>children_x</th>\n",
       "      <th>comedy_x</th>\n",
       "      <th>crime_x</th>\n",
       "      <th>documentary_x</th>\n",
       "      <th>drama_x</th>\n",
       "      <th>fantasy_x</th>\n",
       "      <th>...</th>\n",
       "      <th>worldwari</th>\n",
       "      <th>worldwarii</th>\n",
       "      <th>writing</th>\n",
       "      <th>wrongfulimprisonment</th>\n",
       "      <th>wry</th>\n",
       "      <th>youngermen</th>\n",
       "      <th>zither</th>\n",
       "      <th>zoekazan</th>\n",
       "      <th>zombies</th>\n",
       "      <th>zooeydeschanel</th>\n",
       "    </tr>\n",
       "  </thead>\n",
       "  <tbody>\n",
       "    <tr>\n",
       "      <th>0</th>\n",
       "      <td>1</td>\n",
       "      <td>0.0</td>\n",
       "      <td>0.416846</td>\n",
       "      <td>0.516225</td>\n",
       "      <td>0.504845</td>\n",
       "      <td>0.267586</td>\n",
       "      <td>0.0</td>\n",
       "      <td>0.0</td>\n",
       "      <td>0.0</td>\n",
       "      <td>0.482990</td>\n",
       "      <td>...</td>\n",
       "      <td>0.0</td>\n",
       "      <td>0.0</td>\n",
       "      <td>0.0</td>\n",
       "      <td>0.0</td>\n",
       "      <td>0.0</td>\n",
       "      <td>0.0</td>\n",
       "      <td>0.0</td>\n",
       "      <td>0.0</td>\n",
       "      <td>0.0</td>\n",
       "      <td>0.0</td>\n",
       "    </tr>\n",
       "    <tr>\n",
       "      <th>1</th>\n",
       "      <td>2</td>\n",
       "      <td>0.0</td>\n",
       "      <td>0.512361</td>\n",
       "      <td>0.000000</td>\n",
       "      <td>0.620525</td>\n",
       "      <td>0.000000</td>\n",
       "      <td>0.0</td>\n",
       "      <td>0.0</td>\n",
       "      <td>0.0</td>\n",
       "      <td>0.593662</td>\n",
       "      <td>...</td>\n",
       "      <td>0.0</td>\n",
       "      <td>0.0</td>\n",
       "      <td>0.0</td>\n",
       "      <td>0.0</td>\n",
       "      <td>0.0</td>\n",
       "      <td>0.0</td>\n",
       "      <td>0.0</td>\n",
       "      <td>0.0</td>\n",
       "      <td>0.0</td>\n",
       "      <td>0.0</td>\n",
       "    </tr>\n",
       "    <tr>\n",
       "      <th>2</th>\n",
       "      <td>3</td>\n",
       "      <td>0.0</td>\n",
       "      <td>0.000000</td>\n",
       "      <td>0.000000</td>\n",
       "      <td>0.000000</td>\n",
       "      <td>0.570915</td>\n",
       "      <td>0.0</td>\n",
       "      <td>0.0</td>\n",
       "      <td>0.0</td>\n",
       "      <td>0.000000</td>\n",
       "      <td>...</td>\n",
       "      <td>0.0</td>\n",
       "      <td>0.0</td>\n",
       "      <td>0.0</td>\n",
       "      <td>0.0</td>\n",
       "      <td>0.0</td>\n",
       "      <td>0.0</td>\n",
       "      <td>0.0</td>\n",
       "      <td>0.0</td>\n",
       "      <td>0.0</td>\n",
       "      <td>0.0</td>\n",
       "    </tr>\n",
       "    <tr>\n",
       "      <th>3</th>\n",
       "      <td>5</td>\n",
       "      <td>0.0</td>\n",
       "      <td>0.000000</td>\n",
       "      <td>0.000000</td>\n",
       "      <td>0.000000</td>\n",
       "      <td>1.000000</td>\n",
       "      <td>0.0</td>\n",
       "      <td>0.0</td>\n",
       "      <td>0.0</td>\n",
       "      <td>0.000000</td>\n",
       "      <td>...</td>\n",
       "      <td>0.0</td>\n",
       "      <td>0.0</td>\n",
       "      <td>0.0</td>\n",
       "      <td>0.0</td>\n",
       "      <td>0.0</td>\n",
       "      <td>0.0</td>\n",
       "      <td>0.0</td>\n",
       "      <td>0.0</td>\n",
       "      <td>0.0</td>\n",
       "      <td>0.0</td>\n",
       "    </tr>\n",
       "    <tr>\n",
       "      <th>4</th>\n",
       "      <td>7</td>\n",
       "      <td>0.0</td>\n",
       "      <td>0.000000</td>\n",
       "      <td>0.000000</td>\n",
       "      <td>0.000000</td>\n",
       "      <td>0.570915</td>\n",
       "      <td>0.0</td>\n",
       "      <td>0.0</td>\n",
       "      <td>0.0</td>\n",
       "      <td>0.000000</td>\n",
       "      <td>...</td>\n",
       "      <td>0.0</td>\n",
       "      <td>0.0</td>\n",
       "      <td>0.0</td>\n",
       "      <td>0.0</td>\n",
       "      <td>0.0</td>\n",
       "      <td>0.0</td>\n",
       "      <td>0.0</td>\n",
       "      <td>0.0</td>\n",
       "      <td>0.0</td>\n",
       "      <td>0.0</td>\n",
       "    </tr>\n",
       "  </tbody>\n",
       "</table>\n",
       "<p>5 rows × 1493 columns</p>\n",
       "</div>"
      ],
      "text/plain": [
       "   movieId  action_x  adventure_x  animation_x  children_x  comedy_x  crime_x  \\\n",
       "0        1       0.0     0.416846     0.516225    0.504845  0.267586      0.0   \n",
       "1        2       0.0     0.512361     0.000000    0.620525  0.000000      0.0   \n",
       "2        3       0.0     0.000000     0.000000    0.000000  0.570915      0.0   \n",
       "3        5       0.0     0.000000     0.000000    0.000000  1.000000      0.0   \n",
       "4        7       0.0     0.000000     0.000000    0.000000  0.570915      0.0   \n",
       "\n",
       "   documentary_x  drama_x  fantasy_x  ...  worldwari  worldwarii  writing  \\\n",
       "0            0.0      0.0   0.482990  ...        0.0         0.0      0.0   \n",
       "1            0.0      0.0   0.593662  ...        0.0         0.0      0.0   \n",
       "2            0.0      0.0   0.000000  ...        0.0         0.0      0.0   \n",
       "3            0.0      0.0   0.000000  ...        0.0         0.0      0.0   \n",
       "4            0.0      0.0   0.000000  ...        0.0         0.0      0.0   \n",
       "\n",
       "   wrongfulimprisonment  wry  youngermen  zither  zoekazan  zombies  \\\n",
       "0                   0.0  0.0         0.0     0.0       0.0      0.0   \n",
       "1                   0.0  0.0         0.0     0.0       0.0      0.0   \n",
       "2                   0.0  0.0         0.0     0.0       0.0      0.0   \n",
       "3                   0.0  0.0         0.0     0.0       0.0      0.0   \n",
       "4                   0.0  0.0         0.0     0.0       0.0      0.0   \n",
       "\n",
       "   zooeydeschanel  \n",
       "0             0.0  \n",
       "1             0.0  \n",
       "2             0.0  \n",
       "3             0.0  \n",
       "4             0.0  \n",
       "\n",
       "[5 rows x 1493 columns]"
      ]
     },
     "execution_count": 22,
     "metadata": {},
     "output_type": "execute_result"
    }
   ],
   "source": [
    "movies_with_tags = movies.merge(new_tags, on='movieId')\n",
    "movies_with_tags.dropna(inplace=True)\n",
    "movies_with_tags.head()"
   ]
  },
  {
   "cell_type": "markdown",
   "id": "c03c9cbe",
   "metadata": {},
   "source": [
    "### Добавим в датасет новые признаки:\n",
    "- среднюю оценку фильма\n",
    "- среднюю оценку пользователя"
   ]
  },
  {
   "cell_type": "code",
   "execution_count": 23,
   "id": "edac98e4",
   "metadata": {},
   "outputs": [
    {
     "data": {
      "text/html": [
       "<div>\n",
       "<style scoped>\n",
       "    .dataframe tbody tr th:only-of-type {\n",
       "        vertical-align: middle;\n",
       "    }\n",
       "\n",
       "    .dataframe tbody tr th {\n",
       "        vertical-align: top;\n",
       "    }\n",
       "\n",
       "    .dataframe thead th {\n",
       "        text-align: right;\n",
       "    }\n",
       "</style>\n",
       "<table border=\"1\" class=\"dataframe\">\n",
       "  <thead>\n",
       "    <tr style=\"text-align: right;\">\n",
       "      <th></th>\n",
       "      <th>movieId</th>\n",
       "      <th>action_x</th>\n",
       "      <th>adventure_x</th>\n",
       "      <th>animation_x</th>\n",
       "      <th>children_x</th>\n",
       "      <th>comedy_x</th>\n",
       "      <th>crime_x</th>\n",
       "      <th>documentary_x</th>\n",
       "      <th>drama_x</th>\n",
       "      <th>fantasy_x</th>\n",
       "      <th>...</th>\n",
       "      <th>writing</th>\n",
       "      <th>wrongfulimprisonment</th>\n",
       "      <th>wry</th>\n",
       "      <th>youngermen</th>\n",
       "      <th>zither</th>\n",
       "      <th>zoekazan</th>\n",
       "      <th>zombies</th>\n",
       "      <th>zooeydeschanel</th>\n",
       "      <th>userId</th>\n",
       "      <th>rating</th>\n",
       "    </tr>\n",
       "  </thead>\n",
       "  <tbody>\n",
       "    <tr>\n",
       "      <th>0</th>\n",
       "      <td>1</td>\n",
       "      <td>0.0</td>\n",
       "      <td>0.416846</td>\n",
       "      <td>0.516225</td>\n",
       "      <td>0.504845</td>\n",
       "      <td>0.267586</td>\n",
       "      <td>0.0</td>\n",
       "      <td>0.0</td>\n",
       "      <td>0.0</td>\n",
       "      <td>0.48299</td>\n",
       "      <td>...</td>\n",
       "      <td>0.0</td>\n",
       "      <td>0.0</td>\n",
       "      <td>0.0</td>\n",
       "      <td>0.0</td>\n",
       "      <td>0.0</td>\n",
       "      <td>0.0</td>\n",
       "      <td>0.0</td>\n",
       "      <td>0.0</td>\n",
       "      <td>1</td>\n",
       "      <td>4.0</td>\n",
       "    </tr>\n",
       "    <tr>\n",
       "      <th>1</th>\n",
       "      <td>1</td>\n",
       "      <td>0.0</td>\n",
       "      <td>0.416846</td>\n",
       "      <td>0.516225</td>\n",
       "      <td>0.504845</td>\n",
       "      <td>0.267586</td>\n",
       "      <td>0.0</td>\n",
       "      <td>0.0</td>\n",
       "      <td>0.0</td>\n",
       "      <td>0.48299</td>\n",
       "      <td>...</td>\n",
       "      <td>0.0</td>\n",
       "      <td>0.0</td>\n",
       "      <td>0.0</td>\n",
       "      <td>0.0</td>\n",
       "      <td>0.0</td>\n",
       "      <td>0.0</td>\n",
       "      <td>0.0</td>\n",
       "      <td>0.0</td>\n",
       "      <td>5</td>\n",
       "      <td>4.0</td>\n",
       "    </tr>\n",
       "    <tr>\n",
       "      <th>2</th>\n",
       "      <td>1</td>\n",
       "      <td>0.0</td>\n",
       "      <td>0.416846</td>\n",
       "      <td>0.516225</td>\n",
       "      <td>0.504845</td>\n",
       "      <td>0.267586</td>\n",
       "      <td>0.0</td>\n",
       "      <td>0.0</td>\n",
       "      <td>0.0</td>\n",
       "      <td>0.48299</td>\n",
       "      <td>...</td>\n",
       "      <td>0.0</td>\n",
       "      <td>0.0</td>\n",
       "      <td>0.0</td>\n",
       "      <td>0.0</td>\n",
       "      <td>0.0</td>\n",
       "      <td>0.0</td>\n",
       "      <td>0.0</td>\n",
       "      <td>0.0</td>\n",
       "      <td>7</td>\n",
       "      <td>4.5</td>\n",
       "    </tr>\n",
       "    <tr>\n",
       "      <th>3</th>\n",
       "      <td>1</td>\n",
       "      <td>0.0</td>\n",
       "      <td>0.416846</td>\n",
       "      <td>0.516225</td>\n",
       "      <td>0.504845</td>\n",
       "      <td>0.267586</td>\n",
       "      <td>0.0</td>\n",
       "      <td>0.0</td>\n",
       "      <td>0.0</td>\n",
       "      <td>0.48299</td>\n",
       "      <td>...</td>\n",
       "      <td>0.0</td>\n",
       "      <td>0.0</td>\n",
       "      <td>0.0</td>\n",
       "      <td>0.0</td>\n",
       "      <td>0.0</td>\n",
       "      <td>0.0</td>\n",
       "      <td>0.0</td>\n",
       "      <td>0.0</td>\n",
       "      <td>15</td>\n",
       "      <td>2.5</td>\n",
       "    </tr>\n",
       "    <tr>\n",
       "      <th>4</th>\n",
       "      <td>1</td>\n",
       "      <td>0.0</td>\n",
       "      <td>0.416846</td>\n",
       "      <td>0.516225</td>\n",
       "      <td>0.504845</td>\n",
       "      <td>0.267586</td>\n",
       "      <td>0.0</td>\n",
       "      <td>0.0</td>\n",
       "      <td>0.0</td>\n",
       "      <td>0.48299</td>\n",
       "      <td>...</td>\n",
       "      <td>0.0</td>\n",
       "      <td>0.0</td>\n",
       "      <td>0.0</td>\n",
       "      <td>0.0</td>\n",
       "      <td>0.0</td>\n",
       "      <td>0.0</td>\n",
       "      <td>0.0</td>\n",
       "      <td>0.0</td>\n",
       "      <td>17</td>\n",
       "      <td>4.5</td>\n",
       "    </tr>\n",
       "  </tbody>\n",
       "</table>\n",
       "<p>5 rows × 1495 columns</p>\n",
       "</div>"
      ],
      "text/plain": [
       "   movieId  action_x  adventure_x  animation_x  children_x  comedy_x  crime_x  \\\n",
       "0        1       0.0     0.416846     0.516225    0.504845  0.267586      0.0   \n",
       "1        1       0.0     0.416846     0.516225    0.504845  0.267586      0.0   \n",
       "2        1       0.0     0.416846     0.516225    0.504845  0.267586      0.0   \n",
       "3        1       0.0     0.416846     0.516225    0.504845  0.267586      0.0   \n",
       "4        1       0.0     0.416846     0.516225    0.504845  0.267586      0.0   \n",
       "\n",
       "   documentary_x  drama_x  fantasy_x  ...  writing  wrongfulimprisonment  wry  \\\n",
       "0            0.0      0.0    0.48299  ...      0.0                   0.0  0.0   \n",
       "1            0.0      0.0    0.48299  ...      0.0                   0.0  0.0   \n",
       "2            0.0      0.0    0.48299  ...      0.0                   0.0  0.0   \n",
       "3            0.0      0.0    0.48299  ...      0.0                   0.0  0.0   \n",
       "4            0.0      0.0    0.48299  ...      0.0                   0.0  0.0   \n",
       "\n",
       "   youngermen  zither  zoekazan  zombies  zooeydeschanel  userId  rating  \n",
       "0         0.0     0.0       0.0      0.0             0.0       1     4.0  \n",
       "1         0.0     0.0       0.0      0.0             0.0       5     4.0  \n",
       "2         0.0     0.0       0.0      0.0             0.0       7     4.5  \n",
       "3         0.0     0.0       0.0      0.0             0.0      15     2.5  \n",
       "4         0.0     0.0       0.0      0.0             0.0      17     4.5  \n",
       "\n",
       "[5 rows x 1495 columns]"
      ]
     },
     "execution_count": 23,
     "metadata": {},
     "output_type": "execute_result"
    }
   ],
   "source": [
    "movies_with_ratings = movies_with_tags.merge(ratings, on='movieId').drop(columns=['timestamp'])\n",
    "movies_with_ratings.head()"
   ]
  },
  {
   "cell_type": "code",
   "execution_count": 24,
   "id": "ce7463e2",
   "metadata": {},
   "outputs": [],
   "source": [
    "mean_movie_rating = movies_with_ratings.groupby('movieId')['rating'].mean()\n",
    "mean_user_rating = movies_with_ratings.groupby('userId')['rating'].mean()"
   ]
  },
  {
   "cell_type": "code",
   "execution_count": 57,
   "id": "5573663e",
   "metadata": {},
   "outputs": [],
   "source": [
    "movies_with_ratings['mean_movie_rating'] = movies_with_ratings['movieId'].apply(lambda x: mean_movie_rating[x])"
   ]
  },
  {
   "cell_type": "code",
   "execution_count": 58,
   "id": "bd00ff5e",
   "metadata": {},
   "outputs": [],
   "source": [
    "movies_with_ratings['mean_user_rating'] = movies_with_ratings['userId'].apply(lambda x: mean_user_rating[x])"
   ]
  },
  {
   "cell_type": "code",
   "execution_count": 59,
   "id": "fe7f6b3c",
   "metadata": {},
   "outputs": [
    {
     "data": {
      "text/html": [
       "<div>\n",
       "<style scoped>\n",
       "    .dataframe tbody tr th:only-of-type {\n",
       "        vertical-align: middle;\n",
       "    }\n",
       "\n",
       "    .dataframe tbody tr th {\n",
       "        vertical-align: top;\n",
       "    }\n",
       "\n",
       "    .dataframe thead th {\n",
       "        text-align: right;\n",
       "    }\n",
       "</style>\n",
       "<table border=\"1\" class=\"dataframe\">\n",
       "  <thead>\n",
       "    <tr style=\"text-align: right;\">\n",
       "      <th></th>\n",
       "      <th>movieId</th>\n",
       "      <th>action_x</th>\n",
       "      <th>adventure_x</th>\n",
       "      <th>animation_x</th>\n",
       "      <th>children_x</th>\n",
       "      <th>comedy_x</th>\n",
       "      <th>crime_x</th>\n",
       "      <th>documentary_x</th>\n",
       "      <th>drama_x</th>\n",
       "      <th>fantasy_x</th>\n",
       "      <th>...</th>\n",
       "      <th>wry</th>\n",
       "      <th>youngermen</th>\n",
       "      <th>zither</th>\n",
       "      <th>zoekazan</th>\n",
       "      <th>zombies</th>\n",
       "      <th>zooeydeschanel</th>\n",
       "      <th>userId</th>\n",
       "      <th>rating</th>\n",
       "      <th>mean_movie_rating</th>\n",
       "      <th>mean_user_rating</th>\n",
       "    </tr>\n",
       "  </thead>\n",
       "  <tbody>\n",
       "    <tr>\n",
       "      <th>0</th>\n",
       "      <td>1</td>\n",
       "      <td>0.0</td>\n",
       "      <td>0.416846</td>\n",
       "      <td>0.516225</td>\n",
       "      <td>0.504845</td>\n",
       "      <td>0.267586</td>\n",
       "      <td>0.0</td>\n",
       "      <td>0.0</td>\n",
       "      <td>0.0</td>\n",
       "      <td>0.48299</td>\n",
       "      <td>...</td>\n",
       "      <td>0.0</td>\n",
       "      <td>0.0</td>\n",
       "      <td>0.0</td>\n",
       "      <td>0.0</td>\n",
       "      <td>0.0</td>\n",
       "      <td>0.0</td>\n",
       "      <td>1</td>\n",
       "      <td>4.0</td>\n",
       "      <td>3.92093</td>\n",
       "      <td>4.403509</td>\n",
       "    </tr>\n",
       "    <tr>\n",
       "      <th>1</th>\n",
       "      <td>1</td>\n",
       "      <td>0.0</td>\n",
       "      <td>0.416846</td>\n",
       "      <td>0.516225</td>\n",
       "      <td>0.504845</td>\n",
       "      <td>0.267586</td>\n",
       "      <td>0.0</td>\n",
       "      <td>0.0</td>\n",
       "      <td>0.0</td>\n",
       "      <td>0.48299</td>\n",
       "      <td>...</td>\n",
       "      <td>0.0</td>\n",
       "      <td>0.0</td>\n",
       "      <td>0.0</td>\n",
       "      <td>0.0</td>\n",
       "      <td>0.0</td>\n",
       "      <td>0.0</td>\n",
       "      <td>5</td>\n",
       "      <td>4.0</td>\n",
       "      <td>3.92093</td>\n",
       "      <td>3.743590</td>\n",
       "    </tr>\n",
       "    <tr>\n",
       "      <th>2</th>\n",
       "      <td>1</td>\n",
       "      <td>0.0</td>\n",
       "      <td>0.416846</td>\n",
       "      <td>0.516225</td>\n",
       "      <td>0.504845</td>\n",
       "      <td>0.267586</td>\n",
       "      <td>0.0</td>\n",
       "      <td>0.0</td>\n",
       "      <td>0.0</td>\n",
       "      <td>0.48299</td>\n",
       "      <td>...</td>\n",
       "      <td>0.0</td>\n",
       "      <td>0.0</td>\n",
       "      <td>0.0</td>\n",
       "      <td>0.0</td>\n",
       "      <td>0.0</td>\n",
       "      <td>0.0</td>\n",
       "      <td>7</td>\n",
       "      <td>4.5</td>\n",
       "      <td>3.92093</td>\n",
       "      <td>3.543956</td>\n",
       "    </tr>\n",
       "    <tr>\n",
       "      <th>3</th>\n",
       "      <td>1</td>\n",
       "      <td>0.0</td>\n",
       "      <td>0.416846</td>\n",
       "      <td>0.516225</td>\n",
       "      <td>0.504845</td>\n",
       "      <td>0.267586</td>\n",
       "      <td>0.0</td>\n",
       "      <td>0.0</td>\n",
       "      <td>0.0</td>\n",
       "      <td>0.48299</td>\n",
       "      <td>...</td>\n",
       "      <td>0.0</td>\n",
       "      <td>0.0</td>\n",
       "      <td>0.0</td>\n",
       "      <td>0.0</td>\n",
       "      <td>0.0</td>\n",
       "      <td>0.0</td>\n",
       "      <td>15</td>\n",
       "      <td>2.5</td>\n",
       "      <td>3.92093</td>\n",
       "      <td>3.562500</td>\n",
       "    </tr>\n",
       "    <tr>\n",
       "      <th>4</th>\n",
       "      <td>1</td>\n",
       "      <td>0.0</td>\n",
       "      <td>0.416846</td>\n",
       "      <td>0.516225</td>\n",
       "      <td>0.504845</td>\n",
       "      <td>0.267586</td>\n",
       "      <td>0.0</td>\n",
       "      <td>0.0</td>\n",
       "      <td>0.0</td>\n",
       "      <td>0.48299</td>\n",
       "      <td>...</td>\n",
       "      <td>0.0</td>\n",
       "      <td>0.0</td>\n",
       "      <td>0.0</td>\n",
       "      <td>0.0</td>\n",
       "      <td>0.0</td>\n",
       "      <td>0.0</td>\n",
       "      <td>17</td>\n",
       "      <td>4.5</td>\n",
       "      <td>3.92093</td>\n",
       "      <td>4.279070</td>\n",
       "    </tr>\n",
       "  </tbody>\n",
       "</table>\n",
       "<p>5 rows × 1497 columns</p>\n",
       "</div>"
      ],
      "text/plain": [
       "   movieId  action_x  adventure_x  animation_x  children_x  comedy_x  crime_x  \\\n",
       "0        1       0.0     0.416846     0.516225    0.504845  0.267586      0.0   \n",
       "1        1       0.0     0.416846     0.516225    0.504845  0.267586      0.0   \n",
       "2        1       0.0     0.416846     0.516225    0.504845  0.267586      0.0   \n",
       "3        1       0.0     0.416846     0.516225    0.504845  0.267586      0.0   \n",
       "4        1       0.0     0.416846     0.516225    0.504845  0.267586      0.0   \n",
       "\n",
       "   documentary_x  drama_x  fantasy_x  ...  wry  youngermen  zither  zoekazan  \\\n",
       "0            0.0      0.0    0.48299  ...  0.0         0.0     0.0       0.0   \n",
       "1            0.0      0.0    0.48299  ...  0.0         0.0     0.0       0.0   \n",
       "2            0.0      0.0    0.48299  ...  0.0         0.0     0.0       0.0   \n",
       "3            0.0      0.0    0.48299  ...  0.0         0.0     0.0       0.0   \n",
       "4            0.0      0.0    0.48299  ...  0.0         0.0     0.0       0.0   \n",
       "\n",
       "   zombies  zooeydeschanel  userId  rating  mean_movie_rating  \\\n",
       "0      0.0             0.0       1     4.0            3.92093   \n",
       "1      0.0             0.0       5     4.0            3.92093   \n",
       "2      0.0             0.0       7     4.5            3.92093   \n",
       "3      0.0             0.0      15     2.5            3.92093   \n",
       "4      0.0             0.0      17     4.5            3.92093   \n",
       "\n",
       "   mean_user_rating  \n",
       "0          4.403509  \n",
       "1          3.743590  \n",
       "2          3.543956  \n",
       "3          3.562500  \n",
       "4          4.279070  \n",
       "\n",
       "[5 rows x 1497 columns]"
      ]
     },
     "execution_count": 59,
     "metadata": {},
     "output_type": "execute_result"
    }
   ],
   "source": [
    "movies_with_ratings.head()"
   ]
  },
  {
   "cell_type": "markdown",
   "id": "e2b5be96",
   "metadata": {},
   "source": [
    "### Обучение модели с TF-IDF"
   ]
  },
  {
   "cell_type": "code",
   "execution_count": 71,
   "id": "ca2f78c2",
   "metadata": {},
   "outputs": [],
   "source": [
    "X = movies_with_ratings.drop(columns=['rating'])\n",
    "y = movies_with_ratings['rating']"
   ]
  },
  {
   "cell_type": "code",
   "execution_count": 72,
   "id": "e2c05279",
   "metadata": {},
   "outputs": [],
   "source": [
    "X_train, X_test, y_train, y_test = train_test_split(X, y, test_size=0.2, random_state=21)"
   ]
  },
  {
   "cell_type": "code",
   "execution_count": 73,
   "id": "dd098215",
   "metadata": {},
   "outputs": [
    {
     "data": {
      "text/html": [
       "<style>#sk-container-id-8 {color: black;background-color: white;}#sk-container-id-8 pre{padding: 0;}#sk-container-id-8 div.sk-toggleable {background-color: white;}#sk-container-id-8 label.sk-toggleable__label {cursor: pointer;display: block;width: 100%;margin-bottom: 0;padding: 0.3em;box-sizing: border-box;text-align: center;}#sk-container-id-8 label.sk-toggleable__label-arrow:before {content: \"▸\";float: left;margin-right: 0.25em;color: #696969;}#sk-container-id-8 label.sk-toggleable__label-arrow:hover:before {color: black;}#sk-container-id-8 div.sk-estimator:hover label.sk-toggleable__label-arrow:before {color: black;}#sk-container-id-8 div.sk-toggleable__content {max-height: 0;max-width: 0;overflow: hidden;text-align: left;background-color: #f0f8ff;}#sk-container-id-8 div.sk-toggleable__content pre {margin: 0.2em;color: black;border-radius: 0.25em;background-color: #f0f8ff;}#sk-container-id-8 input.sk-toggleable__control:checked~div.sk-toggleable__content {max-height: 200px;max-width: 100%;overflow: auto;}#sk-container-id-8 input.sk-toggleable__control:checked~label.sk-toggleable__label-arrow:before {content: \"▾\";}#sk-container-id-8 div.sk-estimator input.sk-toggleable__control:checked~label.sk-toggleable__label {background-color: #d4ebff;}#sk-container-id-8 div.sk-label input.sk-toggleable__control:checked~label.sk-toggleable__label {background-color: #d4ebff;}#sk-container-id-8 input.sk-hidden--visually {border: 0;clip: rect(1px 1px 1px 1px);clip: rect(1px, 1px, 1px, 1px);height: 1px;margin: -1px;overflow: hidden;padding: 0;position: absolute;width: 1px;}#sk-container-id-8 div.sk-estimator {font-family: monospace;background-color: #f0f8ff;border: 1px dotted black;border-radius: 0.25em;box-sizing: border-box;margin-bottom: 0.5em;}#sk-container-id-8 div.sk-estimator:hover {background-color: #d4ebff;}#sk-container-id-8 div.sk-parallel-item::after {content: \"\";width: 100%;border-bottom: 1px solid gray;flex-grow: 1;}#sk-container-id-8 div.sk-label:hover label.sk-toggleable__label {background-color: #d4ebff;}#sk-container-id-8 div.sk-serial::before {content: \"\";position: absolute;border-left: 1px solid gray;box-sizing: border-box;top: 0;bottom: 0;left: 50%;z-index: 0;}#sk-container-id-8 div.sk-serial {display: flex;flex-direction: column;align-items: center;background-color: white;padding-right: 0.2em;padding-left: 0.2em;position: relative;}#sk-container-id-8 div.sk-item {position: relative;z-index: 1;}#sk-container-id-8 div.sk-parallel {display: flex;align-items: stretch;justify-content: center;background-color: white;position: relative;}#sk-container-id-8 div.sk-item::before, #sk-container-id-8 div.sk-parallel-item::before {content: \"\";position: absolute;border-left: 1px solid gray;box-sizing: border-box;top: 0;bottom: 0;left: 50%;z-index: -1;}#sk-container-id-8 div.sk-parallel-item {display: flex;flex-direction: column;z-index: 1;position: relative;background-color: white;}#sk-container-id-8 div.sk-parallel-item:first-child::after {align-self: flex-end;width: 50%;}#sk-container-id-8 div.sk-parallel-item:last-child::after {align-self: flex-start;width: 50%;}#sk-container-id-8 div.sk-parallel-item:only-child::after {width: 0;}#sk-container-id-8 div.sk-dashed-wrapped {border: 1px dashed gray;margin: 0 0.4em 0.5em 0.4em;box-sizing: border-box;padding-bottom: 0.4em;background-color: white;}#sk-container-id-8 div.sk-label label {font-family: monospace;font-weight: bold;display: inline-block;line-height: 1.2em;}#sk-container-id-8 div.sk-label-container {text-align: center;}#sk-container-id-8 div.sk-container {/* jupyter's `normalize.less` sets `[hidden] { display: none; }` but bootstrap.min.css set `[hidden] { display: none !important; }` so we also need the `!important` here to be able to override the default hidden behavior on the sphinx rendered scikit-learn.org. See: https://github.com/scikit-learn/scikit-learn/issues/21755 */display: inline-block !important;position: relative;}#sk-container-id-8 div.sk-text-repr-fallback {display: none;}</style><div id=\"sk-container-id-8\" class=\"sk-top-container\"><div class=\"sk-text-repr-fallback\"><pre>LinearRegression()</pre><b>In a Jupyter environment, please rerun this cell to show the HTML representation or trust the notebook. <br />On GitHub, the HTML representation is unable to render, please try loading this page with nbviewer.org.</b></div><div class=\"sk-container\" hidden><div class=\"sk-item\"><div class=\"sk-estimator sk-toggleable\"><input class=\"sk-toggleable__control sk-hidden--visually\" id=\"sk-estimator-id-8\" type=\"checkbox\" checked><label for=\"sk-estimator-id-8\" class=\"sk-toggleable__label sk-toggleable__label-arrow\">LinearRegression</label><div class=\"sk-toggleable__content\"><pre>LinearRegression()</pre></div></div></div></div></div>"
      ],
      "text/plain": [
       "LinearRegression()"
      ]
     },
     "execution_count": 73,
     "metadata": {},
     "output_type": "execute_result"
    }
   ],
   "source": [
    "model = LinearRegression()\n",
    "model.fit(X_train, y_train)"
   ]
  },
  {
   "cell_type": "code",
   "execution_count": 74,
   "id": "84614558",
   "metadata": {},
   "outputs": [],
   "source": [
    "pred = model.predict(X_test)"
   ]
  },
  {
   "cell_type": "code",
   "execution_count": 75,
   "id": "3aa286bf",
   "metadata": {},
   "outputs": [
    {
     "data": {
      "text/plain": [
       "24909.614469306718"
      ]
     },
     "execution_count": 75,
     "metadata": {},
     "output_type": "execute_result"
    }
   ],
   "source": [
    "np.sqrt(mean_squared_error(y_test, pred))"
   ]
  },
  {
   "cell_type": "markdown",
   "id": "48ef600e",
   "metadata": {},
   "source": [
    "### Обучение модели без TF-IDF"
   ]
  },
  {
   "cell_type": "code",
   "execution_count": 77,
   "id": "8c06e841",
   "metadata": {},
   "outputs": [],
   "source": [
    "X = movies_with_ratings[['movieId', 'userId', 'mean_movie_rating', 'mean_user_rating']]\n",
    "y = movies_with_ratings['rating']"
   ]
  },
  {
   "cell_type": "code",
   "execution_count": 78,
   "id": "ad1bb709",
   "metadata": {},
   "outputs": [],
   "source": [
    "X_train, X_test, y_train, y_test = train_test_split(X, y, test_size=0.2, random_state=21)"
   ]
  },
  {
   "cell_type": "code",
   "execution_count": 79,
   "id": "53044dad",
   "metadata": {},
   "outputs": [
    {
     "data": {
      "text/html": [
       "<style>#sk-container-id-9 {color: black;background-color: white;}#sk-container-id-9 pre{padding: 0;}#sk-container-id-9 div.sk-toggleable {background-color: white;}#sk-container-id-9 label.sk-toggleable__label {cursor: pointer;display: block;width: 100%;margin-bottom: 0;padding: 0.3em;box-sizing: border-box;text-align: center;}#sk-container-id-9 label.sk-toggleable__label-arrow:before {content: \"▸\";float: left;margin-right: 0.25em;color: #696969;}#sk-container-id-9 label.sk-toggleable__label-arrow:hover:before {color: black;}#sk-container-id-9 div.sk-estimator:hover label.sk-toggleable__label-arrow:before {color: black;}#sk-container-id-9 div.sk-toggleable__content {max-height: 0;max-width: 0;overflow: hidden;text-align: left;background-color: #f0f8ff;}#sk-container-id-9 div.sk-toggleable__content pre {margin: 0.2em;color: black;border-radius: 0.25em;background-color: #f0f8ff;}#sk-container-id-9 input.sk-toggleable__control:checked~div.sk-toggleable__content {max-height: 200px;max-width: 100%;overflow: auto;}#sk-container-id-9 input.sk-toggleable__control:checked~label.sk-toggleable__label-arrow:before {content: \"▾\";}#sk-container-id-9 div.sk-estimator input.sk-toggleable__control:checked~label.sk-toggleable__label {background-color: #d4ebff;}#sk-container-id-9 div.sk-label input.sk-toggleable__control:checked~label.sk-toggleable__label {background-color: #d4ebff;}#sk-container-id-9 input.sk-hidden--visually {border: 0;clip: rect(1px 1px 1px 1px);clip: rect(1px, 1px, 1px, 1px);height: 1px;margin: -1px;overflow: hidden;padding: 0;position: absolute;width: 1px;}#sk-container-id-9 div.sk-estimator {font-family: monospace;background-color: #f0f8ff;border: 1px dotted black;border-radius: 0.25em;box-sizing: border-box;margin-bottom: 0.5em;}#sk-container-id-9 div.sk-estimator:hover {background-color: #d4ebff;}#sk-container-id-9 div.sk-parallel-item::after {content: \"\";width: 100%;border-bottom: 1px solid gray;flex-grow: 1;}#sk-container-id-9 div.sk-label:hover label.sk-toggleable__label {background-color: #d4ebff;}#sk-container-id-9 div.sk-serial::before {content: \"\";position: absolute;border-left: 1px solid gray;box-sizing: border-box;top: 0;bottom: 0;left: 50%;z-index: 0;}#sk-container-id-9 div.sk-serial {display: flex;flex-direction: column;align-items: center;background-color: white;padding-right: 0.2em;padding-left: 0.2em;position: relative;}#sk-container-id-9 div.sk-item {position: relative;z-index: 1;}#sk-container-id-9 div.sk-parallel {display: flex;align-items: stretch;justify-content: center;background-color: white;position: relative;}#sk-container-id-9 div.sk-item::before, #sk-container-id-9 div.sk-parallel-item::before {content: \"\";position: absolute;border-left: 1px solid gray;box-sizing: border-box;top: 0;bottom: 0;left: 50%;z-index: -1;}#sk-container-id-9 div.sk-parallel-item {display: flex;flex-direction: column;z-index: 1;position: relative;background-color: white;}#sk-container-id-9 div.sk-parallel-item:first-child::after {align-self: flex-end;width: 50%;}#sk-container-id-9 div.sk-parallel-item:last-child::after {align-self: flex-start;width: 50%;}#sk-container-id-9 div.sk-parallel-item:only-child::after {width: 0;}#sk-container-id-9 div.sk-dashed-wrapped {border: 1px dashed gray;margin: 0 0.4em 0.5em 0.4em;box-sizing: border-box;padding-bottom: 0.4em;background-color: white;}#sk-container-id-9 div.sk-label label {font-family: monospace;font-weight: bold;display: inline-block;line-height: 1.2em;}#sk-container-id-9 div.sk-label-container {text-align: center;}#sk-container-id-9 div.sk-container {/* jupyter's `normalize.less` sets `[hidden] { display: none; }` but bootstrap.min.css set `[hidden] { display: none !important; }` so we also need the `!important` here to be able to override the default hidden behavior on the sphinx rendered scikit-learn.org. See: https://github.com/scikit-learn/scikit-learn/issues/21755 */display: inline-block !important;position: relative;}#sk-container-id-9 div.sk-text-repr-fallback {display: none;}</style><div id=\"sk-container-id-9\" class=\"sk-top-container\"><div class=\"sk-text-repr-fallback\"><pre>LinearRegression()</pre><b>In a Jupyter environment, please rerun this cell to show the HTML representation or trust the notebook. <br />On GitHub, the HTML representation is unable to render, please try loading this page with nbviewer.org.</b></div><div class=\"sk-container\" hidden><div class=\"sk-item\"><div class=\"sk-estimator sk-toggleable\"><input class=\"sk-toggleable__control sk-hidden--visually\" id=\"sk-estimator-id-9\" type=\"checkbox\" checked><label for=\"sk-estimator-id-9\" class=\"sk-toggleable__label sk-toggleable__label-arrow\">LinearRegression</label><div class=\"sk-toggleable__content\"><pre>LinearRegression()</pre></div></div></div></div></div>"
      ],
      "text/plain": [
       "LinearRegression()"
      ]
     },
     "execution_count": 79,
     "metadata": {},
     "output_type": "execute_result"
    }
   ],
   "source": [
    "model = LinearRegression()\n",
    "model.fit(X_train, y_train)"
   ]
  },
  {
   "cell_type": "code",
   "execution_count": 80,
   "id": "67b56616",
   "metadata": {},
   "outputs": [
    {
     "data": {
      "text/plain": [
       "0.7961733250369376"
      ]
     },
     "execution_count": 80,
     "metadata": {},
     "output_type": "execute_result"
    }
   ],
   "source": [
    "pred = model.predict(X_test)\n",
    "np.sqrt(mean_squared_error(y_test, pred))"
   ]
  },
  {
   "cell_type": "code",
   "execution_count": 83,
   "id": "f69985af",
   "metadata": {},
   "outputs": [
    {
     "data": {
      "text/plain": [
       "0.31362508744775486"
      ]
     },
     "execution_count": 83,
     "metadata": {},
     "output_type": "execute_result"
    }
   ],
   "source": [
    "model.score(X_test, y_test)"
   ]
  },
  {
   "cell_type": "markdown",
   "id": "9f1954e4",
   "metadata": {},
   "source": [
    "## Для проверяющего:\n",
    "Добрый день.\n",
    "\n",
    "Прошу подсказать, где у меня ошибка: вроде всё делал по заданию, но RMSE при обучении модели с TF-IDF составляет 24909.61.\n",
    "Без TF-IDF же RMSE составило 0.7961, но при очень низкой точности 0.31"
   ]
  }
 ],
 "metadata": {
  "kernelspec": {
   "display_name": "Python 3 (ipykernel)",
   "language": "python",
   "name": "python3"
  },
  "language_info": {
   "codemirror_mode": {
    "name": "ipython",
    "version": 3
   },
   "file_extension": ".py",
   "mimetype": "text/x-python",
   "name": "python",
   "nbconvert_exporter": "python",
   "pygments_lexer": "ipython3",
   "version": "3.9.16"
  }
 },
 "nbformat": 4,
 "nbformat_minor": 5
}
