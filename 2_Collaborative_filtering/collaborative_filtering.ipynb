{
 "cells": [
  {
   "cell_type": "markdown",
   "id": "a3bf7f51",
   "metadata": {},
   "source": [
    "### Описание задания:\n",
    "\n",
    "Применение пакета SURPRISE для построения рекомендаций.\n",
    "\n",
    "- использовать данные [MovieLens 1M](https://grouplens.org/datasets/movielens/1m/),\n",
    "- можно использовать любые модели из пакета,\n",
    "- получить RMSE на тестовом сете 0,87 и ниже."
   ]
  },
  {
   "cell_type": "code",
   "execution_count": null,
   "id": "3559363d",
   "metadata": {},
   "outputs": [],
   "source": []
  },
  {
   "cell_type": "code",
   "execution_count": null,
   "id": "69663243",
   "metadata": {},
   "outputs": [],
   "source": [
    "dataset = 'ml-1m'\n",
    "url = f'https://files.grouplens.org/datasets/movielens/{dataset}.zip'\n",
    "wget.download(url, 'MovieLens.zip')"
   ]
  }
 ],
 "metadata": {
  "kernelspec": {
   "display_name": "Python 3 (ipykernel)",
   "language": "python",
   "name": "python3"
  },
  "language_info": {
   "codemirror_mode": {
    "name": "ipython",
    "version": 3
   },
   "file_extension": ".py",
   "mimetype": "text/x-python",
   "name": "python",
   "nbconvert_exporter": "python",
   "pygments_lexer": "ipython3",
   "version": "3.9.16"
  }
 },
 "nbformat": 4,
 "nbformat_minor": 5
}
