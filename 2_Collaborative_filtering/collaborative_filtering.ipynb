{
 "cells": [
  {
   "cell_type": "markdown",
   "id": "87757ff7",
   "metadata": {},
   "source": [
    "### Описание задания:\n",
    "\n",
    "Применение пакета SURPRISE для построения рекомендаций.\n",
    "\n",
    "- использовать данные [MovieLens 1M](https://grouplens.org/datasets/movielens/1m/),\n",
    "- можно использовать любые модели из пакета,\n",
    "- получить RMSE на тестовом сете 0,87 и ниже."
   ]
  },
  {
   "cell_type": "code",
   "execution_count": 1,
   "id": "c02a78e6",
   "metadata": {},
   "outputs": [],
   "source": [
    "import wget\n",
    "import zipfile\n",
    "\n",
    "import pandas as pd\n",
    "import numpy as np\n",
    "\n",
    "from surprise import (BaselineOnly, CoClustering, KNNBaseline, KNNBasic, KNNWithMeans, KNNWithZScore, \n",
    "                      NormalPredictor, NMF, SlopeOne, SVD, SVDpp)\n",
    "from surprise import Dataset\n",
    "from surprise import Reader\n",
    "from surprise.model_selection import train_test_split\n",
    "from surprise import accuracy\n",
    "from surprise.model_selection import GridSearchCV"
   ]
  },
  {
   "cell_type": "code",
   "execution_count": 2,
   "id": "0818f0ed",
   "metadata": {},
   "outputs": [
    {
     "name": "stdout",
     "output_type": "stream",
     "text": [
      "100% [..........................................................................] 5917549 / 5917549"
     ]
    },
    {
     "data": {
      "text/plain": [
       "'MovieLens.zip'"
      ]
     },
     "execution_count": 2,
     "metadata": {},
     "output_type": "execute_result"
    }
   ],
   "source": [
    "dataset = 'ml-1m'\n",
    "url = f'https://files.grouplens.org/datasets/movielens/{dataset}.zip'\n",
    "wget.download(url, 'MovieLens.zip')"
   ]
  },
  {
   "cell_type": "code",
   "execution_count": 3,
   "id": "a790e0d9",
   "metadata": {},
   "outputs": [],
   "source": [
    "with zipfile.ZipFile(\"MovieLens.zip\",\"r\") as zip_ref:\n",
    "    zip_ref.extractall()"
   ]
  },
  {
   "cell_type": "code",
   "execution_count": 4,
   "id": "e7dd9f98",
   "metadata": {},
   "outputs": [],
   "source": [
    "users = pd.read_csv(f'./{dataset}/users.dat', sep='::',\n",
    "                    names = ['userID', 'gender', 'age', 'occupation', 'zip-code'], engine='python')\n",
    "users.name = 'users'\n",
    "movies = pd.read_csv(f'./{dataset}/movies.dat', sep='::',\n",
    "                     names = ['movieId', 'title', 'genres'], encoding='latin-1', engine='python')\n",
    "movies.name = 'movies'\n",
    "ratings = pd.read_csv(f'./{dataset}/ratings.dat', sep='::',\n",
    "                      names = ['userId', 'movieId', 'rating', 'timestamp'], engine='python')\n",
    "ratings.name = 'ratings'"
   ]
  },
  {
   "cell_type": "code",
   "execution_count": 5,
   "id": "6dd9e7c9",
   "metadata": {},
   "outputs": [],
   "source": [
    "def get_analises(dataset) -> None:\n",
    "    print(dataset.name)\n",
    "    dataset.info()\n",
    "    print(f'Дублирующих записей: {dataset.duplicated().sum()}')\n",
    "    print('------------')"
   ]
  },
  {
   "cell_type": "code",
   "execution_count": 6,
   "id": "c1aaa71e",
   "metadata": {},
   "outputs": [
    {
     "name": "stdout",
     "output_type": "stream",
     "text": [
      "users\n",
      "<class 'pandas.core.frame.DataFrame'>\n",
      "RangeIndex: 6040 entries, 0 to 6039\n",
      "Data columns (total 5 columns):\n",
      " #   Column      Non-Null Count  Dtype \n",
      "---  ------      --------------  ----- \n",
      " 0   userID      6040 non-null   int64 \n",
      " 1   gender      6040 non-null   object\n",
      " 2   age         6040 non-null   int64 \n",
      " 3   occupation  6040 non-null   int64 \n",
      " 4   zip-code    6040 non-null   object\n",
      "dtypes: int64(3), object(2)\n",
      "memory usage: 236.1+ KB\n",
      "Дублирующих записей: 0\n",
      "------------\n",
      "movies\n",
      "<class 'pandas.core.frame.DataFrame'>\n",
      "RangeIndex: 3883 entries, 0 to 3882\n",
      "Data columns (total 3 columns):\n",
      " #   Column   Non-Null Count  Dtype \n",
      "---  ------   --------------  ----- \n",
      " 0   movieId  3883 non-null   int64 \n",
      " 1   title    3883 non-null   object\n",
      " 2   genres   3883 non-null   object\n",
      "dtypes: int64(1), object(2)\n",
      "memory usage: 91.1+ KB\n",
      "Дублирующих записей: 0\n",
      "------------\n",
      "ratings\n",
      "<class 'pandas.core.frame.DataFrame'>\n",
      "RangeIndex: 1000209 entries, 0 to 1000208\n",
      "Data columns (total 4 columns):\n",
      " #   Column     Non-Null Count    Dtype\n",
      "---  ------     --------------    -----\n",
      " 0   userId     1000209 non-null  int64\n",
      " 1   movieId    1000209 non-null  int64\n",
      " 2   rating     1000209 non-null  int64\n",
      " 3   timestamp  1000209 non-null  int64\n",
      "dtypes: int64(4)\n",
      "memory usage: 30.5 MB\n",
      "Дублирующих записей: 0\n",
      "------------\n"
     ]
    }
   ],
   "source": [
    "get_analises(users)\n",
    "get_analises(movies)\n",
    "get_analises(ratings)"
   ]
  },
  {
   "cell_type": "code",
   "execution_count": 7,
   "id": "ac51fe33",
   "metadata": {},
   "outputs": [
    {
     "data": {
      "text/html": [
       "<div>\n",
       "<style scoped>\n",
       "    .dataframe tbody tr th:only-of-type {\n",
       "        vertical-align: middle;\n",
       "    }\n",
       "\n",
       "    .dataframe tbody tr th {\n",
       "        vertical-align: top;\n",
       "    }\n",
       "\n",
       "    .dataframe thead th {\n",
       "        text-align: right;\n",
       "    }\n",
       "</style>\n",
       "<table border=\"1\" class=\"dataframe\">\n",
       "  <thead>\n",
       "    <tr style=\"text-align: right;\">\n",
       "      <th></th>\n",
       "      <th>movieId</th>\n",
       "      <th>title</th>\n",
       "      <th>genres</th>\n",
       "      <th>userId</th>\n",
       "      <th>rating</th>\n",
       "      <th>timestamp</th>\n",
       "    </tr>\n",
       "  </thead>\n",
       "  <tbody>\n",
       "    <tr>\n",
       "      <th>0</th>\n",
       "      <td>1</td>\n",
       "      <td>Toy Story (1995)</td>\n",
       "      <td>Animation|Children's|Comedy</td>\n",
       "      <td>1</td>\n",
       "      <td>5</td>\n",
       "      <td>978824268</td>\n",
       "    </tr>\n",
       "    <tr>\n",
       "      <th>1</th>\n",
       "      <td>1</td>\n",
       "      <td>Toy Story (1995)</td>\n",
       "      <td>Animation|Children's|Comedy</td>\n",
       "      <td>6</td>\n",
       "      <td>4</td>\n",
       "      <td>978237008</td>\n",
       "    </tr>\n",
       "    <tr>\n",
       "      <th>2</th>\n",
       "      <td>1</td>\n",
       "      <td>Toy Story (1995)</td>\n",
       "      <td>Animation|Children's|Comedy</td>\n",
       "      <td>8</td>\n",
       "      <td>4</td>\n",
       "      <td>978233496</td>\n",
       "    </tr>\n",
       "    <tr>\n",
       "      <th>3</th>\n",
       "      <td>1</td>\n",
       "      <td>Toy Story (1995)</td>\n",
       "      <td>Animation|Children's|Comedy</td>\n",
       "      <td>9</td>\n",
       "      <td>5</td>\n",
       "      <td>978225952</td>\n",
       "    </tr>\n",
       "    <tr>\n",
       "      <th>4</th>\n",
       "      <td>1</td>\n",
       "      <td>Toy Story (1995)</td>\n",
       "      <td>Animation|Children's|Comedy</td>\n",
       "      <td>10</td>\n",
       "      <td>5</td>\n",
       "      <td>978226474</td>\n",
       "    </tr>\n",
       "  </tbody>\n",
       "</table>\n",
       "</div>"
      ],
      "text/plain": [
       "   movieId             title                       genres  userId  rating  \\\n",
       "0        1  Toy Story (1995)  Animation|Children's|Comedy       1       5   \n",
       "1        1  Toy Story (1995)  Animation|Children's|Comedy       6       4   \n",
       "2        1  Toy Story (1995)  Animation|Children's|Comedy       8       4   \n",
       "3        1  Toy Story (1995)  Animation|Children's|Comedy       9       5   \n",
       "4        1  Toy Story (1995)  Animation|Children's|Comedy      10       5   \n",
       "\n",
       "   timestamp  \n",
       "0  978824268  \n",
       "1  978237008  \n",
       "2  978233496  \n",
       "3  978225952  \n",
       "4  978226474  "
      ]
     },
     "execution_count": 7,
     "metadata": {},
     "output_type": "execute_result"
    }
   ],
   "source": [
    "movies_with_ratings = movies.merge(ratings, on='movieId').reset_index(drop=True)\n",
    "movies_with_ratings.dropna(inplace=True)\n",
    "movies_with_ratings.head()"
   ]
  },
  {
   "cell_type": "code",
   "execution_count": 8,
   "id": "1a3d02a1",
   "metadata": {},
   "outputs": [],
   "source": [
    "dataset = pd.DataFrame({\n",
    "    'uid': movies_with_ratings.userId,\n",
    "    'iid': movies_with_ratings.title,\n",
    "    'rating': movies_with_ratings.rating\n",
    "})"
   ]
  },
  {
   "cell_type": "code",
   "execution_count": 9,
   "id": "cef3a0fe",
   "metadata": {},
   "outputs": [
    {
     "name": "stdout",
     "output_type": "stream",
     "text": [
      "<class 'pandas.core.frame.DataFrame'>\n",
      "RangeIndex: 1000209 entries, 0 to 1000208\n",
      "Data columns (total 3 columns):\n",
      " #   Column  Non-Null Count    Dtype \n",
      "---  ------  --------------    ----- \n",
      " 0   uid     1000209 non-null  int64 \n",
      " 1   iid     1000209 non-null  object\n",
      " 2   rating  1000209 non-null  int64 \n",
      "dtypes: int64(2), object(1)\n",
      "memory usage: 22.9+ MB\n"
     ]
    }
   ],
   "source": [
    "dataset.dropna(inplace=True)\n",
    "dataset.info()"
   ]
  },
  {
   "cell_type": "code",
   "execution_count": 10,
   "id": "be604b3a",
   "metadata": {},
   "outputs": [],
   "source": [
    "reader = Reader(rating_scale=(ratings.rating.min(), ratings.rating.max()))\n",
    "data = Dataset.load_from_df(dataset, reader)"
   ]
  },
  {
   "cell_type": "code",
   "execution_count": 11,
   "id": "d7c1740e",
   "metadata": {},
   "outputs": [],
   "source": [
    "trainset, testset = train_test_split(data, test_size=.2, random_state = 21)"
   ]
  },
  {
   "cell_type": "code",
   "execution_count": 25,
   "id": "ac52b7a4",
   "metadata": {},
   "outputs": [],
   "source": [
    "models = [SVD(), SVDpp(), SlopeOne(), NMF(), NormalPredictor(), KNNBaseline(), KNNBasic(), KNNWithMeans(), KNNWithZScore(), BaselineOnly(), CoClustering()]\n",
    "models_name = ['SVD', 'SVDpp', 'SlopeOne', 'NMF', 'NormalPredictor', 'KNNBaseline', 'KNNBasic', 'KNNWithMeans', 'KNNWithZScore', 'BaselineOnly', 'CoClustering']"
   ]
  },
  {
   "cell_type": "code",
   "execution_count": 26,
   "id": "6a4b9930",
   "metadata": {},
   "outputs": [
    {
     "name": "stdout",
     "output_type": "stream",
     "text": [
      "Модель SVD: rmse = 0.8713557957245915\n",
      "Модель SVDpp: rmse = 0.858187148764517\n",
      "Модель SlopeOne: rmse = 0.9034563191669724\n",
      "Модель NMF: rmse = 0.9141843997913802\n",
      "Модель NormalPredictor: rmse = 1.505418036133454\n",
      "Estimating biases using als...\n",
      "Computing the msd similarity matrix...\n",
      "Done computing similarity matrix.\n",
      "Модель KNNBaseline: rmse = 0.8921297881542896\n",
      "Computing the msd similarity matrix...\n",
      "Done computing similarity matrix.\n",
      "Модель KNNBasic: rmse = 0.9192505209922023\n",
      "Computing the msd similarity matrix...\n",
      "Done computing similarity matrix.\n",
      "Модель KNNWithMeans: rmse = 0.9265590995828431\n",
      "Computing the msd similarity matrix...\n",
      "Done computing similarity matrix.\n",
      "Модель KNNWithZScore: rmse = 0.9278355686797725\n",
      "Estimating biases using als...\n",
      "Модель BaselineOnly: rmse = 0.9056271143463166\n",
      "Модель CoClustering: rmse = 0.9150876784937805\n"
     ]
    }
   ],
   "source": [
    "for idx, model in enumerate(models):\n",
    "    model.fit(trainset)\n",
    "    print(f'Модель {models_name[idx]}: rmse = {accuracy.rmse(model.test(testset), verbose=False)}')"
   ]
  },
  {
   "cell_type": "markdown",
   "id": "6717cbb9",
   "metadata": {},
   "source": [
    "Применение алгоритма SVDpp позволило получить необходимое значение метрики rmse ниже 0,87"
   ]
  },
  {
   "cell_type": "markdown",
   "id": "ae62732e",
   "metadata": {},
   "source": [
    "Попробуем получить лучшее значение rmse с помощью перебора дополнительных значений параметров для алгоритма SVDpp"
   ]
  },
  {
   "cell_type": "code",
   "execution_count": 29,
   "id": "8e2ae4ff",
   "metadata": {},
   "outputs": [],
   "source": [
    "params = {\n",
    "    'n_epochs': [10, 30, 50],\n",
    "    'lr_all': [0.002, 0.005, 0.01],\n",
    "    'reg_all': [0.005, 0.4, 0.6],\n",
    "}"
   ]
  },
  {
   "cell_type": "markdown",
   "id": "5973c09c",
   "metadata": {},
   "source": [
    "**Внимание:** время работы GridSearchCV составит несколько часов"
   ]
  },
  {
   "cell_type": "code",
   "execution_count": null,
   "id": "3e0fdbea",
   "metadata": {},
   "outputs": [],
   "source": [
    "grid_search = GridSearchCV(SVDpp, params, measures=['rmse'], cv=5, refit=True)\n",
    "grid_search.fit(data)\n",
    "\n",
    "algo = grid_search.best_estimator['rmse']\n",
    "algo.fit(trainset)\n",
    "\n",
    "predictions = algo.test(testset)\n",
    "accur_score = accuracy.rmse(predictions, verbose=True)"
   ]
  },
  {
   "cell_type": "code",
   "execution_count": null,
   "id": "b3a411b6",
   "metadata": {},
   "outputs": [],
   "source": [
    "print(f'Наилучшие параметры: {grid_search.best_params_}')\n",
    "print(f'Наилучшее качество модели при подборе параметров: RMSE = {accur_score}')"
   ]
  }
 ],
 "metadata": {
  "kernelspec": {
   "display_name": "Python 3 (ipykernel)",
   "language": "python",
   "name": "python3"
  },
  "language_info": {
   "codemirror_mode": {
    "name": "ipython",
    "version": 3
   },
   "file_extension": ".py",
   "mimetype": "text/x-python",
   "name": "python",
   "nbconvert_exporter": "python",
   "pygments_lexer": "ipython3",
   "version": "3.9.16"
  }
 },
 "nbformat": 4,
 "nbformat_minor": 5
}
